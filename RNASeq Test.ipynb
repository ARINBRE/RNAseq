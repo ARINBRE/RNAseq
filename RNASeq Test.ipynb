{
 "cells": [
  {
   "cell_type": "markdown",
   "metadata": {},
   "source": [
    "This is a test Jupyter Notebook for Dr. Byrum's RNASeq Analysis Pipeline\n",
    "\n",
    "To install R in Jupyter Notebook, use the following command from the Anaconda terminal.\n",
    "conda install -c r r-irkernel"
   ]
  },
  {
   "cell_type": "code",
   "execution_count": 1,
   "metadata": {},
   "outputs": [
    {
     "name": "stderr",
     "output_type": "stream",
     "text": [
      "Installing package into 'C:/Users/3062742/Documents/R/win-library/3.6'\n",
      "(as 'lib' is unspecified)\n"
     ]
    },
    {
     "name": "stdout",
     "output_type": "stream",
     "text": [
      "package 'matrixStats' successfully unpacked and MD5 sums checked\n",
      "\n",
      "The downloaded binary packages are in\n",
      "\tC:\\Users\\3062742\\AppData\\Local\\Temp\\Rtmpsj5i3p\\downloaded_packages\n"
     ]
    },
    {
     "name": "stderr",
     "output_type": "stream",
     "text": [
      "Installing package into 'C:/Users/3062742/Documents/R/win-library/3.6'\n",
      "(as 'lib' is unspecified)\n"
     ]
    },
    {
     "name": "stdout",
     "output_type": "stream",
     "text": [
      "package 'BiocManager' successfully unpacked and MD5 sums checked\n",
      "\n",
      "The downloaded binary packages are in\n",
      "\tC:\\Users\\3062742\\AppData\\Local\\Temp\\Rtmpsj5i3p\\downloaded_packages\n"
     ]
    },
    {
     "name": "stderr",
     "output_type": "stream",
     "text": [
      "Warning message:\n",
      "\"package 'BiocManager' was built under R version 3.6.3\"Bioconductor version 3.10 (BiocManager 1.30.10), ?BiocManager::install for help\n",
      "Bioconductor version '3.10' is out-of-date; the current release version '3.11'\n",
      "  is available with R version '4.0'; see https://bioconductor.org/install\n",
      "Bioconductor version 3.10 (BiocManager 1.30.10), R 3.6.1 (2019-07-05)\n",
      "Installing package(s) 'edgeR'\n"
     ]
    },
    {
     "name": "stdout",
     "output_type": "stream",
     "text": [
      "package 'edgeR' successfully unpacked and MD5 sums checked\n"
     ]
    },
    {
     "name": "stderr",
     "output_type": "stream",
     "text": [
      "Warning message:\n",
      "\"cannot remove prior installation of package 'edgeR'\"Warning message in file.copy(savedcopy, lib, recursive = TRUE):\n",
      "\"problem copying C:\\Users\\3062742\\Documents\\R\\win-library\\3.6\\00LOCK\\edgeR\\libs\\x64\\edgeR.dll to C:\\Users\\3062742\\Documents\\R\\win-library\\3.6\\edgeR\\libs\\x64\\edgeR.dll: Permission denied\"Warning message:\n",
      "\"restored 'edgeR'\""
     ]
    },
    {
     "name": "stdout",
     "output_type": "stream",
     "text": [
      "\n",
      "The downloaded binary packages are in\n",
      "\tC:\\Users\\3062742\\AppData\\Local\\Temp\\Rtmpsj5i3p\\downloaded_packages\n"
     ]
    },
    {
     "name": "stderr",
     "output_type": "stream",
     "text": [
      "Old packages: 'rlang', 'digest', 'evaluate', 'htmltools', 'IRkernel',\n",
      "  'jsonlite', 'Rcpp', 'repr', 'uuid'\n",
      "Bioconductor version 3.10 (BiocManager 1.30.10), R 3.6.1 (2019-07-05)\n",
      "Installing package(s) 'AnnotationDbi'\n"
     ]
    },
    {
     "name": "stdout",
     "output_type": "stream",
     "text": [
      "package 'AnnotationDbi' successfully unpacked and MD5 sums checked\n",
      "\n",
      "The downloaded binary packages are in\n",
      "\tC:\\Users\\3062742\\AppData\\Local\\Temp\\Rtmpsj5i3p\\downloaded_packages\n"
     ]
    },
    {
     "name": "stderr",
     "output_type": "stream",
     "text": [
      "Old packages: 'rlang', 'digest', 'evaluate', 'htmltools', 'IRkernel',\n",
      "  'jsonlite', 'Rcpp', 'repr', 'uuid'\n",
      "Bioconductor version 3.10 (BiocManager 1.30.10), R 3.6.1 (2019-07-05)\n",
      "Installing package(s) 'org.Mm.eg.db'\n",
      "installing the source package 'org.Mm.eg.db'\n",
      "\n",
      "Warning message in install.packages(...):\n",
      "\"installation of package 'org.Mm.eg.db' had non-zero exit status\"Old packages: 'rlang', 'digest', 'evaluate', 'htmltools', 'IRkernel',\n",
      "  'jsonlite', 'Rcpp', 'repr', 'uuid'\n",
      "Bioconductor version 3.10 (BiocManager 1.30.10), R 3.6.1 (2019-07-05)\n",
      "Installing package(s) 'Glimma'\n"
     ]
    },
    {
     "name": "stdout",
     "output_type": "stream",
     "text": [
      "package 'Glimma' successfully unpacked and MD5 sums checked\n",
      "\n",
      "The downloaded binary packages are in\n",
      "\tC:\\Users\\3062742\\AppData\\Local\\Temp\\Rtmpsj5i3p\\downloaded_packages\n"
     ]
    },
    {
     "name": "stderr",
     "output_type": "stream",
     "text": [
      "Old packages: 'rlang', 'digest', 'evaluate', 'htmltools', 'IRkernel',\n",
      "  'jsonlite', 'Rcpp', 'repr', 'uuid'\n"
     ]
    }
   ],
   "source": [
    "# Install necessary packages into R environment\n",
    "install.packages(\"matrixStats\")\n",
    "\n",
    "install.packages(\"BiocManager\")\n",
    "library(\"BiocManager\")\n",
    "\n",
    "BiocManager::install(\"edgeR\", quietly=TRUE)\n",
    "BiocManager::install(\"AnnotationDbi\", quietly=TRUE)\n",
    "BiocManager::install(\"org.Mm.eg.db\", quietly=TRUE)\n",
    "BiocManager::install(\"Glimma\")"
   ]
  },
  {
   "cell_type": "code",
   "execution_count": 2,
   "metadata": {
    "scrolled": true
   },
   "outputs": [
    {
     "name": "stderr",
     "output_type": "stream",
     "text": [
      "Warning message:\n",
      "\"package 'edgeR' was built under R version 3.6.2\"Loading required package: limma\n",
      "Warning message:\n",
      "\"package 'limma' was built under R version 3.6.2\""
     ]
    },
    {
     "data": {
      "text/html": [
       "<table>\n",
       "<thead><tr><th scope=col>sample</th><th scope=col>group</th><th scope=col>batch</th></tr></thead>\n",
       "<tbody>\n",
       "\t<tr><td>D1 </td><td>CON</td><td>b1 </td></tr>\n",
       "\t<tr><td>D2 </td><td>CON</td><td>b1 </td></tr>\n",
       "\t<tr><td>D3 </td><td>CON</td><td>b1 </td></tr>\n",
       "\t<tr><td>D4 </td><td>CON</td><td>b1 </td></tr>\n",
       "\t<tr><td>D5 </td><td>CON</td><td>b1 </td></tr>\n",
       "\t<tr><td>D6 </td><td>CON</td><td>b2 </td></tr>\n",
       "</tbody>\n",
       "</table>\n"
      ],
      "text/latex": [
       "\\begin{tabular}{r|lll}\n",
       " sample & group & batch\\\\\n",
       "\\hline\n",
       "\t D1  & CON & b1 \\\\\n",
       "\t D2  & CON & b1 \\\\\n",
       "\t D3  & CON & b1 \\\\\n",
       "\t D4  & CON & b1 \\\\\n",
       "\t D5  & CON & b1 \\\\\n",
       "\t D6  & CON & b2 \\\\\n",
       "\\end{tabular}\n"
      ],
      "text/markdown": [
       "\n",
       "| sample | group | batch |\n",
       "|---|---|---|\n",
       "| D1  | CON | b1  |\n",
       "| D2  | CON | b1  |\n",
       "| D3  | CON | b1  |\n",
       "| D4  | CON | b1  |\n",
       "| D5  | CON | b1  |\n",
       "| D6  | CON | b2  |\n",
       "\n"
      ],
      "text/plain": [
       "  sample group batch\n",
       "1 D1     CON   b1   \n",
       "2 D2     CON   b1   \n",
       "3 D3     CON   b1   \n",
       "4 D4     CON   b1   \n",
       "5 D5     CON   b1   \n",
       "6 D6     CON   b2   "
      ]
     },
     "metadata": {},
     "output_type": "display_data"
    },
    {
     "data": {
      "text/html": [
       "<table>\n",
       "<thead><tr><th></th><th scope=col>D1</th><th scope=col>D2</th><th scope=col>D3</th><th scope=col>D4</th><th scope=col>D5</th><th scope=col>D6</th><th scope=col>E1</th><th scope=col>E2</th><th scope=col>E3</th><th scope=col>E4</th><th scope=col>E5</th><th scope=col>E6</th></tr></thead>\n",
       "<tbody>\n",
       "\t<tr><th scope=row>Adora2b</th><td>  0 </td><td>   2</td><td>  0 </td><td>  2 </td><td>  0 </td><td>  2 </td><td>  8 </td><td>   3</td><td>   1</td><td>   5</td><td>   7</td><td> 40 </td></tr>\n",
       "\t<tr><th scope=row>Adora2a</th><td>731 </td><td>1036</td><td>749 </td><td>913 </td><td>761 </td><td>334 </td><td>825 </td><td>1298</td><td>1321</td><td>1137</td><td>1096</td><td>617 </td></tr>\n",
       "\t<tr><th scope=row>Gm20741</th><td>  0 </td><td>   0</td><td>  0 </td><td>  0 </td><td>  0 </td><td>  0 </td><td>  0 </td><td>   0</td><td>   0</td><td>   0</td><td>   0</td><td>  0 </td></tr>\n",
       "\t<tr><th scope=row>Gm4340</th><td>  0 </td><td>   0</td><td>  0 </td><td>  0 </td><td>  0 </td><td>  0 </td><td>  0 </td><td>   0</td><td>   0</td><td>   0</td><td>   0</td><td>  0 </td></tr>\n",
       "\t<tr><th scope=row>Gm20744</th><td>  0 </td><td>   0</td><td>  0 </td><td>  0 </td><td>  0 </td><td>  0 </td><td>  0 </td><td>   0</td><td>   0</td><td>   0</td><td>   0</td><td>  0 </td></tr>\n",
       "\t<tr><th scope=row>Gm20743</th><td>  0 </td><td>   0</td><td>  0 </td><td>  0 </td><td>  0 </td><td>  0 </td><td>  0 </td><td>   0</td><td>   0</td><td>   0</td><td>   0</td><td>  0 </td></tr>\n",
       "</tbody>\n",
       "</table>\n"
      ],
      "text/latex": [
       "\\begin{tabular}{r|llllllllllll}\n",
       "  & D1 & D2 & D3 & D4 & D5 & D6 & E1 & E2 & E3 & E4 & E5 & E6\\\\\n",
       "\\hline\n",
       "\tAdora2b &   0  &    2 &   0  &   2  &   0  &   2  &   8  &    3 &    1 &    5 &    7 &  40 \\\\\n",
       "\tAdora2a & 731  & 1036 & 749  & 913  & 761  & 334  & 825  & 1298 & 1321 & 1137 & 1096 & 617 \\\\\n",
       "\tGm20741 &   0  &    0 &   0  &   0  &   0  &   0  &   0  &    0 &    0 &    0 &    0 &   0 \\\\\n",
       "\tGm4340 &   0  &    0 &   0  &   0  &   0  &   0  &   0  &    0 &    0 &    0 &    0 &   0 \\\\\n",
       "\tGm20744 &   0  &    0 &   0  &   0  &   0  &   0  &   0  &    0 &    0 &    0 &    0 &   0 \\\\\n",
       "\tGm20743 &   0  &    0 &   0  &   0  &   0  &   0  &   0  &    0 &    0 &    0 &    0 &   0 \\\\\n",
       "\\end{tabular}\n"
      ],
      "text/markdown": [
       "\n",
       "| <!--/--> | D1 | D2 | D3 | D4 | D5 | D6 | E1 | E2 | E3 | E4 | E5 | E6 |\n",
       "|---|---|---|---|---|---|---|---|---|---|---|---|---|\n",
       "| Adora2b |   0  |    2 |   0  |   2  |   0  |   2  |   8  |    3 |    1 |    5 |    7 |  40  |\n",
       "| Adora2a | 731  | 1036 | 749  | 913  | 761  | 334  | 825  | 1298 | 1321 | 1137 | 1096 | 617  |\n",
       "| Gm20741 |   0  |    0 |   0  |   0  |   0  |   0  |   0  |    0 |    0 |    0 |    0 |   0  |\n",
       "| Gm4340 |   0  |    0 |   0  |   0  |   0  |   0  |   0  |    0 |    0 |    0 |    0 |   0  |\n",
       "| Gm20744 |   0  |    0 |   0  |   0  |   0  |   0  |   0  |    0 |    0 |    0 |    0 |   0  |\n",
       "| Gm20743 |   0  |    0 |   0  |   0  |   0  |   0  |   0  |    0 |    0 |    0 |    0 |   0  |\n",
       "\n"
      ],
      "text/plain": [
       "        D1  D2   D3  D4  D5  D6  E1  E2   E3   E4   E5   E6 \n",
       "Adora2b   0    2   0   2   0   2   8    3    1    5    7  40\n",
       "Adora2a 731 1036 749 913 761 334 825 1298 1321 1137 1096 617\n",
       "Gm20741   0    0   0   0   0   0   0    0    0    0    0   0\n",
       "Gm4340    0    0   0   0   0   0   0    0    0    0    0   0\n",
       "Gm20744   0    0   0   0   0   0   0    0    0    0    0   0\n",
       "Gm20743   0    0   0   0   0   0   0    0    0    0    0   0"
      ]
     },
     "metadata": {},
     "output_type": "display_data"
    }
   ],
   "source": [
    "library(edgeR, quietly-TRUE)\n",
    "\n",
    "# import targets and counts\n",
    "targets <- read.csv(\"targets.csv\", header=TRUE, stringsAsFactors=FALSE); head(targets)\n",
    "\n",
    "GenewiseCounts <- read.csv(\"htseq_counts_12.csv\", header=TRUE, row.names=1, stringsAsFactors=FALSE)\n",
    "head(GenewiseCounts)"
   ]
  },
  {
   "cell_type": "code",
   "execution_count": 3,
   "metadata": {},
   "outputs": [
    {
     "data": {
      "text/plain": [
       "\n",
       "CON EPZ \n",
       "  6   6 "
      ]
     },
     "metadata": {},
     "output_type": "display_data"
    },
    {
     "data": {
      "text/html": [
       "<ol class=list-inline>\n",
       "\t<li>'CON'</li>\n",
       "\t<li>'EPZ'</li>\n",
       "</ol>\n"
      ],
      "text/latex": [
       "\\begin{enumerate*}\n",
       "\\item 'CON'\n",
       "\\item 'EPZ'\n",
       "\\end{enumerate*}\n"
      ],
      "text/markdown": [
       "1. 'CON'\n",
       "2. 'EPZ'\n",
       "\n",
       "\n"
      ],
      "text/plain": [
       "[1] \"CON\" \"EPZ\""
      ]
     },
     "metadata": {},
     "output_type": "display_data"
    },
    {
     "data": {
      "text/plain": [
       "\n",
       "b1 b2 \n",
       "10  2 "
      ]
     },
     "metadata": {},
     "output_type": "display_data"
    },
    {
     "data": {
      "text/html": [
       "<ol class=list-inline>\n",
       "\t<li>'b1'</li>\n",
       "\t<li>'b2'</li>\n",
       "</ol>\n"
      ],
      "text/latex": [
       "\\begin{enumerate*}\n",
       "\\item 'b1'\n",
       "\\item 'b2'\n",
       "\\end{enumerate*}\n"
      ],
      "text/markdown": [
       "1. 'b1'\n",
       "2. 'b2'\n",
       "\n",
       "\n"
      ],
      "text/plain": [
       "[1] \"b1\" \"b2\""
      ]
     },
     "metadata": {},
     "output_type": "display_data"
    },
    {
     "data": {
      "text/html": [
       "<table>\n",
       "<thead><tr><th></th><th scope=col>group</th><th scope=col>batch</th></tr></thead>\n",
       "<tbody>\n",
       "\t<tr><th scope=row>D1</th><td>CON</td><td>b1 </td></tr>\n",
       "\t<tr><th scope=row>D2</th><td>CON</td><td>b1 </td></tr>\n",
       "\t<tr><th scope=row>D3</th><td>CON</td><td>b1 </td></tr>\n",
       "\t<tr><th scope=row>D4</th><td>CON</td><td>b1 </td></tr>\n",
       "\t<tr><th scope=row>D5</th><td>CON</td><td>b1 </td></tr>\n",
       "\t<tr><th scope=row>D6</th><td>CON</td><td>b2 </td></tr>\n",
       "</tbody>\n",
       "</table>\n"
      ],
      "text/latex": [
       "\\begin{tabular}{r|ll}\n",
       "  & group & batch\\\\\n",
       "\\hline\n",
       "\tD1 & CON & b1 \\\\\n",
       "\tD2 & CON & b1 \\\\\n",
       "\tD3 & CON & b1 \\\\\n",
       "\tD4 & CON & b1 \\\\\n",
       "\tD5 & CON & b1 \\\\\n",
       "\tD6 & CON & b2 \\\\\n",
       "\\end{tabular}\n"
      ],
      "text/markdown": [
       "\n",
       "| <!--/--> | group | batch |\n",
       "|---|---|---|\n",
       "| D1 | CON | b1  |\n",
       "| D2 | CON | b1  |\n",
       "| D3 | CON | b1  |\n",
       "| D4 | CON | b1  |\n",
       "| D5 | CON | b1  |\n",
       "| D6 | CON | b2  |\n",
       "\n"
      ],
      "text/plain": [
       "   group batch\n",
       "D1 CON   b1   \n",
       "D2 CON   b1   \n",
       "D3 CON   b1   \n",
       "D4 CON   b1   \n",
       "D5 CON   b1   \n",
       "D6 CON   b2   "
      ]
     },
     "metadata": {},
     "output_type": "display_data"
    },
    {
     "data": {
      "text/plain": [
       "\n",
       "CON EPZ \n",
       "  6   6 "
      ]
     },
     "metadata": {},
     "output_type": "display_data"
    },
    {
     "data": {
      "text/plain": [
       "\n",
       "b1 b2 \n",
       "10  2 "
      ]
     },
     "metadata": {},
     "output_type": "display_data"
    }
   ],
   "source": [
    "# define main factors for the analysis (group main factor for analysis, batch, etc)\n",
    "targets$group <- factor(targets$group, levels=c(unique(targets$group))); table(targets$group); levels(targets$group)\n",
    "targets$batch <- factor(as.character(targets$batch), levels=c(unique(targets$batch))); table(targets$batch); levels(targets$batch)\n",
    "\n",
    "# create data.frame with factors (potential factors for the analysis)\n",
    "my_targets <- data.frame(group=targets$group, batch=targets$batch);\n",
    "rownames(my_targets) <- targets$sample\n",
    "head(my_targets)\n",
    "\n",
    "\n",
    "table(my_targets$group)\n",
    "table(my_targets$batch)"
   ]
  },
  {
   "cell_type": "code",
   "execution_count": 4,
   "metadata": {},
   "outputs": [
    {
     "data": {
      "text/html": [
       "<table>\n",
       "<thead><tr><th></th><th scope=col>D1</th><th scope=col>D2</th><th scope=col>D3</th><th scope=col>D4</th><th scope=col>D5</th></tr></thead>\n",
       "<tbody>\n",
       "\t<tr><th scope=row>Adora2b</th><td>  0 </td><td>   2</td><td>  0 </td><td>  2 </td><td>  0 </td></tr>\n",
       "\t<tr><th scope=row>Adora2a</th><td>731 </td><td>1036</td><td>749 </td><td>913 </td><td>761 </td></tr>\n",
       "\t<tr><th scope=row>Gm20741</th><td>  0 </td><td>   0</td><td>  0 </td><td>  0 </td><td>  0 </td></tr>\n",
       "\t<tr><th scope=row>Gm4340</th><td>  0 </td><td>   0</td><td>  0 </td><td>  0 </td><td>  0 </td></tr>\n",
       "\t<tr><th scope=row>Gm20744</th><td>  0 </td><td>   0</td><td>  0 </td><td>  0 </td><td>  0 </td></tr>\n",
       "\t<tr><th scope=row>Gm20743</th><td>  0 </td><td>   0</td><td>  0 </td><td>  0 </td><td>  0 </td></tr>\n",
       "</tbody>\n",
       "</table>\n"
      ],
      "text/latex": [
       "\\begin{tabular}{r|lllll}\n",
       "  & D1 & D2 & D3 & D4 & D5\\\\\n",
       "\\hline\n",
       "\tAdora2b &   0  &    2 &   0  &   2  &   0 \\\\\n",
       "\tAdora2a & 731  & 1036 & 749  & 913  & 761 \\\\\n",
       "\tGm20741 &   0  &    0 &   0  &   0  &   0 \\\\\n",
       "\tGm4340 &   0  &    0 &   0  &   0  &   0 \\\\\n",
       "\tGm20744 &   0  &    0 &   0  &   0  &   0 \\\\\n",
       "\tGm20743 &   0  &    0 &   0  &   0  &   0 \\\\\n",
       "\\end{tabular}\n"
      ],
      "text/markdown": [
       "\n",
       "| <!--/--> | D1 | D2 | D3 | D4 | D5 |\n",
       "|---|---|---|---|---|---|\n",
       "| Adora2b |   0  |    2 |   0  |   2  |   0  |\n",
       "| Adora2a | 731  | 1036 | 749  | 913  | 761  |\n",
       "| Gm20741 |   0  |    0 |   0  |   0  |   0  |\n",
       "| Gm4340 |   0  |    0 |   0  |   0  |   0  |\n",
       "| Gm20744 |   0  |    0 |   0  |   0  |   0  |\n",
       "| Gm20743 |   0  |    0 |   0  |   0  |   0  |\n",
       "\n"
      ],
      "text/plain": [
       "        D1  D2   D3  D4  D5 \n",
       "Adora2b   0    2   0   2   0\n",
       "Adora2a 731 1036 749 913 761\n",
       "Gm20741   0    0   0   0   0\n",
       "Gm4340    0    0   0   0   0\n",
       "Gm20744   0    0   0   0   0\n",
       "Gm20743   0    0   0   0   0"
      ]
     },
     "metadata": {},
     "output_type": "display_data"
    },
    {
     "data": {
      "text/html": [
       "<table>\n",
       "<thead><tr><th></th><th scope=col>gene_id</th></tr></thead>\n",
       "<tbody>\n",
       "\t<tr><th scope=row>Adora2b</th><td>Adora2b</td></tr>\n",
       "\t<tr><th scope=row>Adora2a</th><td>Adora2a</td></tr>\n",
       "\t<tr><th scope=row>Gm20741</th><td>Gm20741</td></tr>\n",
       "\t<tr><th scope=row>Gm4340</th><td>Gm4340 </td></tr>\n",
       "\t<tr><th scope=row>Gm20744</th><td>Gm20744</td></tr>\n",
       "\t<tr><th scope=row>Gm20743</th><td>Gm20743</td></tr>\n",
       "</tbody>\n",
       "</table>\n"
      ],
      "text/latex": [
       "\\begin{tabular}{r|l}\n",
       "  & gene\\_id\\\\\n",
       "\\hline\n",
       "\tAdora2b & Adora2b\\\\\n",
       "\tAdora2a & Adora2a\\\\\n",
       "\tGm20741 & Gm20741\\\\\n",
       "\tGm4340 & Gm4340 \\\\\n",
       "\tGm20744 & Gm20744\\\\\n",
       "\tGm20743 & Gm20743\\\\\n",
       "\\end{tabular}\n"
      ],
      "text/markdown": [
       "\n",
       "| <!--/--> | gene_id |\n",
       "|---|---|\n",
       "| Adora2b | Adora2b |\n",
       "| Adora2a | Adora2a |\n",
       "| Gm20741 | Gm20741 |\n",
       "| Gm4340 | Gm4340  |\n",
       "| Gm20744 | Gm20744 |\n",
       "| Gm20743 | Gm20743 |\n",
       "\n"
      ],
      "text/plain": [
       "        gene_id\n",
       "Adora2b Adora2b\n",
       "Adora2a Adora2a\n",
       "Gm20741 Gm20741\n",
       "Gm4340  Gm4340 \n",
       "Gm20744 Gm20744\n",
       "Gm20743 Gm20743"
      ]
     },
     "metadata": {},
     "output_type": "display_data"
    },
    {
     "data": {
      "text/html": [
       "<table>\n",
       "<thead><tr><th></th><th scope=col>group</th><th scope=col>lib.size</th><th scope=col>norm.factors</th></tr></thead>\n",
       "<tbody>\n",
       "\t<tr><th scope=row>D1</th><td>CON     </td><td>22385619</td><td>1       </td></tr>\n",
       "\t<tr><th scope=row>D2</th><td>CON     </td><td>28092434</td><td>1       </td></tr>\n",
       "\t<tr><th scope=row>D3</th><td>CON     </td><td>19372856</td><td>1       </td></tr>\n",
       "\t<tr><th scope=row>D4</th><td>CON     </td><td>27283589</td><td>1       </td></tr>\n",
       "\t<tr><th scope=row>D5</th><td>CON     </td><td>23735343</td><td>1       </td></tr>\n",
       "\t<tr><th scope=row>D6</th><td>CON     </td><td>17215483</td><td>1       </td></tr>\n",
       "</tbody>\n",
       "</table>\n"
      ],
      "text/latex": [
       "\\begin{tabular}{r|lll}\n",
       "  & group & lib.size & norm.factors\\\\\n",
       "\\hline\n",
       "\tD1 & CON      & 22385619 & 1       \\\\\n",
       "\tD2 & CON      & 28092434 & 1       \\\\\n",
       "\tD3 & CON      & 19372856 & 1       \\\\\n",
       "\tD4 & CON      & 27283589 & 1       \\\\\n",
       "\tD5 & CON      & 23735343 & 1       \\\\\n",
       "\tD6 & CON      & 17215483 & 1       \\\\\n",
       "\\end{tabular}\n"
      ],
      "text/markdown": [
       "\n",
       "| <!--/--> | group | lib.size | norm.factors |\n",
       "|---|---|---|---|\n",
       "| D1 | CON      | 22385619 | 1        |\n",
       "| D2 | CON      | 28092434 | 1        |\n",
       "| D3 | CON      | 19372856 | 1        |\n",
       "| D4 | CON      | 27283589 | 1        |\n",
       "| D5 | CON      | 23735343 | 1        |\n",
       "| D6 | CON      | 17215483 | 1        |\n",
       "\n"
      ],
      "text/plain": [
       "   group lib.size norm.factors\n",
       "D1 CON   22385619 1           \n",
       "D2 CON   28092434 1           \n",
       "D3 CON   19372856 1           \n",
       "D4 CON   27283589 1           \n",
       "D5 CON   23735343 1           \n",
       "D6 CON   17215483 1           "
      ]
     },
     "metadata": {},
     "output_type": "display_data"
    },
    {
     "name": "stdout",
     "output_type": "stream",
     "text": [
      "[1] \"used DGEList()\"\n"
     ]
    }
   ],
   "source": [
    "# create DGEList()\n",
    "y <- DGEList(counts=GenewiseCounts, group=  targets$group, genes=rownames(GenewiseCounts), remove.zeros=FALSE)\n",
    "colnames(y$genes)[1] <- \"gene_id\"\n",
    "head(y$counts)[,1:5];head(y$genes);head(y$samples)\n",
    "\n",
    "\n",
    "print(\"used DGEList()\")"
   ]
  },
  {
   "cell_type": "code",
   "execution_count": null,
   "metadata": {
    "scrolled": true
   },
   "outputs": [],
   "source": [
    "library(AnnotationDbi, quietly=TRUE)\n",
    "library(org.Mm.eg.db, quietly=TRUE)\n",
    "\n",
    "\n",
    "org.Mm.eg.db\n",
    "keytypes(org.Mm.eg.db)\n",
    "\n",
    "\n",
    "y$genes$ENSEMBL  <- mapIds(org.Mm.eg.db, keys=rownames(y$genes), keytype = \"SYMBOL\", column=\"ENSEMBL\", multiVals=\"first\")\n",
    "y$genes$ENTREZID <- mapIds(org.Mm.eg.db, keys=rownames(y$genes), keytype = \"SYMBOL\", column=\"ENTREZID\", multiVals=\"first\")\n",
    "y$genes$SYMBOL   <- mapIds(org.Mm.eg.db, keys=rownames(y$genes), keytype = \"SYMBOL\", column=\"SYMBOL\", multiVals=\"first\")\n",
    "y$genes$GENENAME <- mapIds(org.Mm.eg.db, keys=rownames(y$genes), keytype = \"SYMBOL\", column=\"GENENAME\", multiVals=\"first\")\n",
    "\n",
    "\n",
    "# final imported data\n",
    "head(y$counts)[,1:5]\n",
    "head(y$samples)\n",
    "head(y$genes)\n",
    "\n",
    "\n",
    "print(\"added org.Mm.eg.db\")"
   ]
  },
  {
   "cell_type": "code",
   "execution_count": null,
   "metadata": {
    "scrolled": true
   },
   "outputs": [],
   "source": [
    "## [2] REMOVE GENES WITH ZERO COUNTS\n",
    "\n",
    "#---------------------------------------------------------------------------------------------------------\n",
    "print(paste(\"[\",Sys.time(),\"]\",\" removing genes with 0 counts in all samples... \", sep=\"\"))\n",
    "#---------------------------------------------------------------------------------------------------------\n",
    "# number genes with zero counts in all samples\n",
    "table(rowSums(y$counts==0)==ncol(y$counts))\n",
    "\n",
    "# genes with zero counts in all samples\n",
    "zeros <- rowSums(y$counts)==0; table(zeros)\n",
    "\n",
    "\n",
    "# keep genes with at least 1 count in 1 sample (i.e. filter genes with zero counts in all samples). \n",
    "keep <- rowSums(y$counts) > 0; table(keep)\n",
    "y <- y[keep,, keep.lib.sizes=FALSE];dim(y)\n",
    "\n",
    "\n",
    "##--------------------\n",
    "##   RAW VARIABLES\n",
    "##--------------------\n",
    "y.raw          <- y\n",
    "ngroups        <- length(unique(y$samples$group)); ngroups\n",
    "nsamples       <- ncol(y); nsamples\n",
    "ngenes         <- nrow(y); ngenes\n",
    "\n",
    "raw_lib        <- y$samples; head(raw_lib)\n",
    "raw_counts     <- y$counts; dim(raw_counts)\n",
    "raw_cpm        <- cpm(y, prior.count=2); dim(raw_cpm)\n",
    "raw_lcpm       <- cpm(y, prior.count=2, log=TRUE); dim(raw_lcpm)\n",
    "raw_anno       <- y$genes; head(raw_anno)\n",
    "raw_L          <- log2(2/(mean(y$samples$lib.size) * 1e-06)); raw_L\n",
    "\n",
    "pearson.raw_lcpm      <- cor(raw_lcpm, use=\"all.obs\", method=\"pearson\")\n",
    "spearman.raw_lcpm     <- cor(raw_lcpm, use=\"all.obs\", method=\"spearman\")\n",
    "\n",
    "raw_var     <- matrixStats::rowVars(raw_lcpm) # row variance per gene\n",
    "raw_scale   <- t(scale(t(raw_lcpm)))  # scaled lcpm values mean=0, std=1\n",
    "\n",
    "print(\"Saved raw variables\")\n",
    "\n",
    "stopifnot(rownames(raw_scale)==rownames(y$genes))\n",
    "stopifnot(rownames(raw_scale)==rownames(y$counts))"
   ]
  },
  {
   "cell_type": "code",
   "execution_count": null,
   "metadata": {},
   "outputs": [],
   "source": [
    "## mean, median, min., and max. library sizes\n",
    "L  <- mean(y$samples$lib.size) * 1e-06\n",
    "M  <- median(y$samples$lib.size) * 1e-06\n",
    "Mn <- min(y$samples$lib.size) * 1e-06\n",
    "Mx <- max(y$samples$lib.size) * 1e-06\n",
    "round(c(L, M, Mn, Mx),1)\n",
    "\n",
    "\n",
    "\n",
    "# smallest libraries\n",
    "min_group <- min(table(targets$group))  # 6\n",
    "min_group\n",
    " \n",
    "# calculates the CPM value that corresponds to a count of 10\n",
    "cpm(10, min(y$samples$lib.size))\n",
    "min_cpm <- round(as.numeric(cpm(10, min(y$samples$lib.size))),2)\n",
    "min_cpm # 0.58\n",
    "\n",
    "keep <- rowSums(cpm(y) > min_cpm) >=  min_group\n",
    "table(keep)\n",
    "# FALSE  TRUE \n",
    "#  5136 11457\n",
    "\n",
    "\n",
    "y <- y[keep, , keep.lib.sizes=FALSE]\n",
    "dim(y) \n",
    "\n",
    "# The option keep.lib.sizes=FALSE causes the library sizes to be recomputed after the filtering.\n",
    "# This is generally recommended, although the effect on the downstream analysis is usually small.\n",
    "\n",
    "\n",
    "\n",
    "##---------------------------\n",
    "## FILTER VARIABLES (y)\n",
    "##---------------------------\n",
    "y.filter           <- y\n",
    "filter_lib         <- y$samples\n",
    "filter_ngenes      <- nrow(y); filter_ngenes\n",
    "filter_anno        <- y$genes;head(filter_anno)\n",
    "head(filter_anno)[1:5,];dim(filter_anno)\n",
    "filter_counts      <- y$counts\n",
    "filter_cpm         <- cpm(y, prior.count=2)\n",
    "filter_lcpm        <- cpm(y, prior.count=2, log=TRUE)\n",
    "filter_L           <- log2(2/(mean(y$samples$lib.size) * 1e-6));filter_L \n",
    "\n",
    "pearson.filter_lcpm      <- cor(filter_lcpm, use=\"all.obs\", method=\"pearson\")\n",
    "spearman.filter_lcpm     <- cor(filter_lcpm, use=\"all.obs\", method=\"spearman\")\n",
    "\n",
    "filter_var     <- matrixStats::rowVars(filter_lcpm) # row variance per gene\n",
    "filter_scale   <- t(scale(t(filter_lcpm)))  # scaled lcpm values mean=0, std=1\n",
    "\n",
    "print(\"Saved filtered variables\")\n",
    "\n",
    "stopifnot(rownames(filter_scale)==rownames(y$genes))\n",
    "stopifnot(rownames(filter_scale)==rownames(y$counts))"
   ]
  },
  {
   "cell_type": "code",
   "execution_count": null,
   "metadata": {},
   "outputs": [],
   "source": [
    "##-------------------------------\n",
    "##     TMM NORMALIZATION (y)     \n",
    "##-------------------------------\n",
    "\n",
    "# NORMALIZED DATA (y)\n",
    "y <- calcNormFactors(y, method=\"TMM\")\n",
    "head(y$samples)\n",
    "\n",
    "\n",
    "\n",
    "\n",
    "##---------------------------\n",
    "##   NORM VARIABLES (y)\n",
    "##---------------------------\n",
    "y.norm          <- y\n",
    "norm_lib        <- y$samples\n",
    "norm_lib        <- cbind(y$samples, (y$samples$norm.factors * y$samples$lib.size))\n",
    "colnames(norm_lib) <- c(\"group\", \"old.lib.size\", \"norm.factors\", \"lib.size\"); head(norm_lib)\n",
    "\n",
    "norm_factor     <- y$samples$norm.factors\n",
    "norm_anno       <- y$genes\n",
    "norm_counts     <- y$counts\n",
    "norm_cpm        <- cpm(y, prior.count=2, normalized.lib.sizes = TRUE)\n",
    "norm_lcpm       <- cpm(y, prior.count=2, normalized.lib.sizes = TRUE, log=TRUE)\n",
    "norm_L          <- log2(2/(mean(y$samples$lib.size, normalized.lib.sizes=TRUE) * 1e-06)); norm_L \n",
    "\n",
    "pearson.norm_lcpm      <- cor(norm_lcpm, use=\"all.obs\", method=\"pearson\")\n",
    "spearman.norm_lcpm     <- cor(norm_lcpm, use=\"all.obs\", method=\"spearman\")\n",
    "\n",
    "norm_var     <- matrixStats::rowVars(norm_lcpm) # row variance per gene\n",
    "norm_scale   <- t(scale(t(norm_lcpm)))  # scaled lcpm values mean=0, std=1\n",
    "\n",
    "print(\"Saved normalized variables\")\n",
    "\n",
    "stopifnot(rownames(norm_scale)==rownames(y$genes))\n",
    "stopifnot(rownames(norm_scale)==rownames(y$counts))"
   ]
  },
  {
   "cell_type": "code",
   "execution_count": null,
   "metadata": {},
   "outputs": [],
   "source": [
    "design = model.matrix(~0 + my_targets$group + my_targets$batch,  data= y$samples)\n",
    "colnames(design) <- c(\"CON\",\"EPZ\", \"b2\");design\n",
    "\n",
    "contrasts <- makeContrasts(EPZ_vs_CON=EPZ-CON, levels=colnames(design));contrasts\n",
    "\n",
    "\n",
    "v <- voom(y, design, plot=FALSE)\n",
    "vfit<-lmFit(v, design)\n",
    "vfit<-contrasts.fit(vfit,contrasts=contrasts)\n",
    "results <-eBayes(vfit)\n",
    "\n",
    "\n",
    "png(file.path(\".\", \"01_voom.png\"),units=\"in\", width=10, height=5, res=1000, pointsize=12)\n",
    "par(mfrow=c(1,2))\n",
    "   voom(y,design=design, normalize.method=\"none\", plot=TRUE, save.plot=TRUE)\n",
    "   plotSA(results, main=\"Final Model\")\n",
    "dev.off()\n",
    "\n",
    "\n",
    "stats <- topTable(results, coef=1, n=Inf, adjust.method=\"BH\", sort.by=\"none\", p.value=1, lfc=0); dim(stats)\n",
    "results$stats <- stats\n",
    "sig <- topTable(results, coef=1, n=Inf, adjust.method=\"BH\", sort.by=\"none\", p.value=0.05, lfc=1); dim(sig)\n",
    "dt <- decideTests(results, method=\"separate\", adjust.method=\"BH\", p.value=0.05, lfc = 1)\n",
    "summary(dt)\n",
    "#        EPZ_vs_CON\n",
    "# Down            7\n",
    "# NotSig      10738\n",
    "# Up            712"
   ]
  },
  {
   "cell_type": "code",
   "execution_count": null,
   "metadata": {},
   "outputs": [],
   "source": [
    "png(file.path(\".\", paste(\"05_\",\"EPZ_vs_CON\", \"_p-value.histogram.png\",sep=\"\")), units=\"in\", width=6, height=5, res=1000, pointsize=12)\n",
    "{\n",
    "   grayblue <-\"#b0ddf5\"\n",
    "      \n",
    "     hist(results$stats$P.Value, col= grayblue, breaks = 100, \n",
    "          main=paste(\"P-value Histogram: \",\"EPZ vs. CON\",sep=\"\"),\n",
    "          xlab=\"P.Value\", \n",
    "          ylab=\"frequency\", \n",
    "          font=1, cex.main=1, las=1)\n",
    "}\n",
    "dev.off()"
   ]
  },
  {
   "cell_type": "code",
   "execution_count": null,
   "metadata": {},
   "outputs": [],
   "source": [
    "i<-1\n",
    "\n",
    "png(file.path(\".\", paste(\"07_\",\"EPZ_vs_CON\",\"_MD.plot.png\",sep=\"\")), units=\"in\", width=5, height=5, res=1000, pointsize=10)\n",
    "{\n",
    "     ##----------------------------------------------------------------------------\n",
    "     op <- par(no.readonly = TRUE)  # save current par settings b4 plotting\n",
    "     #par(mfrow = c(4, 5))          # multiple plots\n",
    "     par(mar = c(5, 5, 4, 1))       # inner margin (bottom, left, top, right)\n",
    "     par(mgp = c(3, 1, 0))          # axis margin (labels, ticks, line)\n",
    "     par(oma = c(2, 1, 0, 1))       # outer margin (bottom, left, top, right)\n",
    "     ##----------------------------------------------------------------------------\n",
    "     plotMD(results, column=i, cex=1, las=1, status=dt[,i], values=c(1,-1), col=c(\"red\",\"blue\"), \n",
    "            legend=\"topright\", main=\"\", \n",
    "            xlab=expression(paste(\"avg. \", log[2],\" (counts-per-million)\",sep=\"\")),\n",
    "            ylab=expression(paste(log[2],\" (fold-change)\",sep=\"\")),\n",
    "            cex.axis=1.1, cex.lab=1.2\n",
    "            # ,ylim=c(-11,13)\n",
    "            #,xlim=c(2,14)\n",
    "     )\n",
    "     title(main=paste(\"MD plot: \", \"EPZ vs. CON\", \"\", sep=\"\"))\n",
    "     legend(\"topright\", c(\"up\", \"not sig.\", \"down\"), inset=0, pch=19,\n",
    "            box.col=\"black\", box.lwd=1, bg=\"white\",\n",
    "            col=c(\"red\",\"black\",\"blue\"), ncol=1, cex=1)\n",
    "     \n",
    "     # text(x=12, y=-3, label=paste(\"up =\", summary(dt)[3], sep=\" \"), adj=0, col=\"red\", cex=0.9, font=1)\n",
    "     # text(x=12, y=-4, label=paste(\"not sig. =\", summary(dt)[2], sep=\" \"), adj=0, col=\"black\", cex=0.9, font=1)\n",
    "     # text(x=12, y=-5, label=paste(\"down =\", summary(dt)[1], sep=\" \"), adj=0, col=\"blue\", cex=0.9, font=1)\n",
    "     abline(h=c(-1,1), col=\"black\", lty=2,lwd=1)\n",
    "}\n",
    "\n",
    "\n",
    "dev.off()\n"
   ]
  },
  {
   "cell_type": "code",
   "execution_count": null,
   "metadata": {},
   "outputs": [],
   "source": [
    "library(Glimma, quietly=TRUE)\n",
    "  \n",
    "glMDPlot(results, \n",
    "         coef=i,\n",
    "         counts = norm_lcpm, \n",
    "         anno = results$genes,\n",
    "         groups = my_targets$group, \n",
    "         samples = colnames(norm_lcpm), \n",
    "         status = dt[,i],\n",
    "         transform=FALSE, \n",
    "         main = paste(\"MD Plot: \",\"EPZ vs. CON\", \"\", sep=\" \"),\n",
    "         xlab = \"avg. log2 (counts-per-million)\",\n",
    "         ylab = \"log2 (fold-change)\", \n",
    "         side.xlab = \"group\",\n",
    "         side.ylab = \"expression (norm_lcpm)\", \n",
    "         side.log = FALSE,\n",
    "         # side.gridstep = ifelse(!transform || side.log, FALSE, 0.5),\n",
    "         p.adj.method = \"BH\",\n",
    "         jitter = 30, \n",
    "         side.main = \"SYMBOL\",\n",
    "         display.columns = colnames(results$genes), \n",
    "         cols = c(\"#00bfff\", \"#858585\", \"#ff3030\"),\n",
    "         #sample.cols = colors[my_targets$group],\n",
    "         path = file.path(\".\"),\n",
    "         folder = \"MD-plots\", \n",
    "         html = paste(\"EPZ_vs_CON\", \"_MD.plot\", sep=\"\"), \n",
    "         launch = FALSE\n",
    "     )"
   ]
  },
  {
   "cell_type": "code",
   "execution_count": null,
   "metadata": {},
   "outputs": [],
   "source": [
    "png(file.path(\".\", paste(\"08_\",\"EPZ_vs_CON\",\"_volcano.plot.png\",sep=\"\")), units=\"in\", width=6, height=6, res=1000, pointsize=12)\n",
    "{\n",
    "     with(results$stats, \n",
    "          plot(logFC, -log10(adj.P.Val),# pch=20, las=1,\n",
    "               pch = 21, bg = \"black\", col = \"black\", lwd = 0.9, cex = 1,\n",
    "               main=paste(\"Volcano Plot: \", \"EPZ vs. CON\",\"\", sep=\" \"), \n",
    "               xlab=expression(paste(,log[2],\" (fold-change)\",sep=\"\")),\n",
    "               #xlab= \"logFC\", \n",
    "               ylab=expression(paste(\"-\",log[10],\" (adj. p-value)\",sep=\"\"))\n",
    "               # ylab=\"-log10 (P.Value)\", \n",
    "               # ,ylim= c(0, 8)\n",
    "               , xlim= c(-2,7)\n",
    "               , cex.axis=1.1, cex.lab=1.2\n",
    "          )\n",
    "     )\n",
    "     # grid()\n",
    "     \n",
    "     with(subset(results$stats, adj.P.Val <= 0.05 & logFC >= 1), points(logFC, -log10(adj.P.Val), pch = 21, bg = \"firebrick2\", col = \"firebrick2\", lwd = 1, cex = 1.1))\n",
    "     with(subset(results$stats, adj.P.Val <= 0.05 & logFC <= -1), points(logFC, -log10(adj.P.Val), pch = 21, bg = \"blue\", col = \"blue\", lwd = 1, cex = 1.1))\n",
    "\n",
    "     abline(v= c(-1,1), col=\"black\", lty=2, lwd=1)\n",
    "     abline(h= -log10(0.05), col=\"black\", lty=2, lwd=1)\n",
    "     \n",
    "     # text(x=-14, y=8, label=paste(\"up = \", summary(dt)[3], sep=\" \"), adj=0, col=\"red\", cex=0.8, font=1)\n",
    "     # text(x=-14, y=7.5, label=paste(\"not sig = \", summary(dt)[2], sep=\" \"), adj=0, col=\"black\", cex=0.8, font=1)\n",
    "     # text(x=-14, y=7, label=paste(\"down = \", summary(dt)[1], sep=\" \"), adj=0, col=\"blue\", cex=0.8, font=1)\n",
    "}\n",
    "\n",
    "dev.off()"
   ]
  },
  {
   "cell_type": "code",
   "execution_count": null,
   "metadata": {},
   "outputs": [],
   "source": [
    "glXYPlot(x=results$stats$logFC,\n",
    "         y=-log(results$stats$adj.P.Val, 10),\n",
    "         counts = norm_lcpm,\n",
    "         groups = my_targets$group,\n",
    "         samples = rownames(my_targets),\n",
    "         status = dt[,i], \n",
    "         transform=FALSE, \n",
    "         anno = results$genes,\n",
    "         display.columns = colnames(results$genes),\n",
    "         xlab = \"log2 (fold-change)\",\n",
    "         ylab = \"-log10 (adj. p-value)\",\n",
    "         side.main = \"SYMBOL\",\n",
    "         side.xlab = \"group\",\n",
    "         side.ylab = \"expression (norm_lcpm)\",\n",
    "         side.log=FALSE,\n",
    "         #sample.cols = colors[my_targets$group],\n",
    "         cols = c(\"#00bfff\", \"#858585\", \"#ff3030\"),\n",
    "         p.adj.method=\"BH\",\n",
    "         jitter = 30,\n",
    "         path = file.path(\".\"),\n",
    "         folder = \"Volcano-plots\",\n",
    "         html = paste(\"EPZ_vs_CON\",\"_volcano.plot\", sep=\"\"),\n",
    "         main=paste(\"Volcano Plot: \",\"EPZ vs. CON\", \"\", sep=\" \"),\n",
    "         launch = FALSE\n",
    "         )"
   ]
  },
  {
   "cell_type": "code",
   "execution_count": null,
   "metadata": {},
   "outputs": [],
   "source": []
  }
 ],
 "metadata": {
  "kernelspec": {
   "display_name": "R",
   "language": "R",
   "name": "ir"
  },
  "language_info": {
   "codemirror_mode": "r",
   "file_extension": ".r",
   "mimetype": "text/x-r-source",
   "name": "R",
   "pygments_lexer": "r",
   "version": "3.6.1"
  }
 },
 "nbformat": 4,
 "nbformat_minor": 4
}
