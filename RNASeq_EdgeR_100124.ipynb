{
 "cells": [
  {
   "cell_type": "markdown",
   "metadata": {},
   "source": [
    "This is a test Jupyter Notebook for Dr. Byrum's RNASeq Analysis Pipeline\n",
    "\n",
    "To install R in Jupyter Notebook, use the following command from the Anaconda terminal.\n",
    "conda install -c r r-irkernel"
   ]
  },
  {
   "cell_type": "code",
   "execution_count": 1,
   "metadata": {
    "scrolled": true
   },
   "outputs": [
    {
     "name": "stderr",
     "output_type": "stream",
     "text": [
      "Loading required package: limma\n",
      "\n"
     ]
    }
   ],
   "source": [
    "library(edgeR)\n",
    "\n"
   ]
  },
  {
   "cell_type": "markdown",
   "metadata": {},
   "source": [
    "The data has been trimmed, aligned to the reference genome, and counts matrix generated. The first step of Differential Expression Analysis is to load the sample information and the counts matrix.\n",
    "nf-core RNAseq pipeline.\n",
    "\n",
    "<img src =\"https://raw.githubusercontent.com/nf-core/rnaseq/3.8.1/docs/images/nf-core-rnaseq_metro_map_grey.png\" alt =\"nf-core\">"
   ]
  },
  {
   "cell_type": "code",
   "execution_count": 3,
   "metadata": {},
   "outputs": [
    {
     "data": {
      "text/html": [
       "<table class=\"dataframe\">\n",
       "<caption>A data.frame: 12 × 3</caption>\n",
       "<thead>\n",
       "\t<tr><th scope=col>sample</th><th scope=col>group</th><th scope=col>batch</th></tr>\n",
       "\t<tr><th scope=col>&lt;chr&gt;</th><th scope=col>&lt;chr&gt;</th><th scope=col>&lt;chr&gt;</th></tr>\n",
       "</thead>\n",
       "<tbody>\n",
       "\t<tr><td>D1</td><td>CON</td><td>b1</td></tr>\n",
       "\t<tr><td>D2</td><td>CON</td><td>b1</td></tr>\n",
       "\t<tr><td>D3</td><td>CON</td><td>b1</td></tr>\n",
       "\t<tr><td>D4</td><td>CON</td><td>b1</td></tr>\n",
       "\t<tr><td>D5</td><td>CON</td><td>b1</td></tr>\n",
       "\t<tr><td>D6</td><td>CON</td><td>b2</td></tr>\n",
       "\t<tr><td>E1</td><td>EPZ</td><td>b1</td></tr>\n",
       "\t<tr><td>E2</td><td>EPZ</td><td>b1</td></tr>\n",
       "\t<tr><td>E3</td><td>EPZ</td><td>b1</td></tr>\n",
       "\t<tr><td>E4</td><td>EPZ</td><td>b1</td></tr>\n",
       "\t<tr><td>E5</td><td>EPZ</td><td>b1</td></tr>\n",
       "\t<tr><td>E6</td><td>EPZ</td><td>b2</td></tr>\n",
       "</tbody>\n",
       "</table>\n"
      ],
      "text/latex": [
       "A data.frame: 12 × 3\n",
       "\\begin{tabular}{lll}\n",
       " sample & group & batch\\\\\n",
       " <chr> & <chr> & <chr>\\\\\n",
       "\\hline\n",
       "\t D1 & CON & b1\\\\\n",
       "\t D2 & CON & b1\\\\\n",
       "\t D3 & CON & b1\\\\\n",
       "\t D4 & CON & b1\\\\\n",
       "\t D5 & CON & b1\\\\\n",
       "\t D6 & CON & b2\\\\\n",
       "\t E1 & EPZ & b1\\\\\n",
       "\t E2 & EPZ & b1\\\\\n",
       "\t E3 & EPZ & b1\\\\\n",
       "\t E4 & EPZ & b1\\\\\n",
       "\t E5 & EPZ & b1\\\\\n",
       "\t E6 & EPZ & b2\\\\\n",
       "\\end{tabular}\n"
      ],
      "text/markdown": [
       "\n",
       "A data.frame: 12 × 3\n",
       "\n",
       "| sample &lt;chr&gt; | group &lt;chr&gt; | batch &lt;chr&gt; |\n",
       "|---|---|---|\n",
       "| D1 | CON | b1 |\n",
       "| D2 | CON | b1 |\n",
       "| D3 | CON | b1 |\n",
       "| D4 | CON | b1 |\n",
       "| D5 | CON | b1 |\n",
       "| D6 | CON | b2 |\n",
       "| E1 | EPZ | b1 |\n",
       "| E2 | EPZ | b1 |\n",
       "| E3 | EPZ | b1 |\n",
       "| E4 | EPZ | b1 |\n",
       "| E5 | EPZ | b1 |\n",
       "| E6 | EPZ | b2 |\n",
       "\n"
      ],
      "text/plain": [
       "   sample group batch\n",
       "1  D1     CON   b1   \n",
       "2  D2     CON   b1   \n",
       "3  D3     CON   b1   \n",
       "4  D4     CON   b1   \n",
       "5  D5     CON   b1   \n",
       "6  D6     CON   b2   \n",
       "7  E1     EPZ   b1   \n",
       "8  E2     EPZ   b1   \n",
       "9  E3     EPZ   b1   \n",
       "10 E4     EPZ   b1   \n",
       "11 E5     EPZ   b1   \n",
       "12 E6     EPZ   b2   "
      ]
     },
     "metadata": {},
     "output_type": "display_data"
    },
    {
     "data": {
      "text/html": [
       "<table class=\"dataframe\">\n",
       "<caption>A data.frame: 6 × 12</caption>\n",
       "<thead>\n",
       "\t<tr><th></th><th scope=col>D1</th><th scope=col>D2</th><th scope=col>D3</th><th scope=col>D4</th><th scope=col>D5</th><th scope=col>D6</th><th scope=col>E1</th><th scope=col>E2</th><th scope=col>E3</th><th scope=col>E4</th><th scope=col>E5</th><th scope=col>E6</th></tr>\n",
       "\t<tr><th></th><th scope=col>&lt;int&gt;</th><th scope=col>&lt;int&gt;</th><th scope=col>&lt;int&gt;</th><th scope=col>&lt;int&gt;</th><th scope=col>&lt;int&gt;</th><th scope=col>&lt;int&gt;</th><th scope=col>&lt;int&gt;</th><th scope=col>&lt;int&gt;</th><th scope=col>&lt;int&gt;</th><th scope=col>&lt;int&gt;</th><th scope=col>&lt;int&gt;</th><th scope=col>&lt;int&gt;</th></tr>\n",
       "</thead>\n",
       "<tbody>\n",
       "\t<tr><th scope=row>Adora2b</th><td>  0</td><td>   2</td><td>  0</td><td>  2</td><td>  0</td><td>  2</td><td>  8</td><td>   3</td><td>   1</td><td>   5</td><td>   7</td><td> 40</td></tr>\n",
       "\t<tr><th scope=row>Adora2a</th><td>731</td><td>1036</td><td>749</td><td>913</td><td>761</td><td>334</td><td>825</td><td>1298</td><td>1321</td><td>1137</td><td>1096</td><td>617</td></tr>\n",
       "\t<tr><th scope=row>Gm20741</th><td>  0</td><td>   0</td><td>  0</td><td>  0</td><td>  0</td><td>  0</td><td>  0</td><td>   0</td><td>   0</td><td>   0</td><td>   0</td><td>  0</td></tr>\n",
       "\t<tr><th scope=row>Gm4340</th><td>  0</td><td>   0</td><td>  0</td><td>  0</td><td>  0</td><td>  0</td><td>  0</td><td>   0</td><td>   0</td><td>   0</td><td>   0</td><td>  0</td></tr>\n",
       "\t<tr><th scope=row>Gm20744</th><td>  0</td><td>   0</td><td>  0</td><td>  0</td><td>  0</td><td>  0</td><td>  0</td><td>   0</td><td>   0</td><td>   0</td><td>   0</td><td>  0</td></tr>\n",
       "\t<tr><th scope=row>Gm20743</th><td>  0</td><td>   0</td><td>  0</td><td>  0</td><td>  0</td><td>  0</td><td>  0</td><td>   0</td><td>   0</td><td>   0</td><td>   0</td><td>  0</td></tr>\n",
       "</tbody>\n",
       "</table>\n"
      ],
      "text/latex": [
       "A data.frame: 6 × 12\n",
       "\\begin{tabular}{r|llllllllllll}\n",
       "  & D1 & D2 & D3 & D4 & D5 & D6 & E1 & E2 & E3 & E4 & E5 & E6\\\\\n",
       "  & <int> & <int> & <int> & <int> & <int> & <int> & <int> & <int> & <int> & <int> & <int> & <int>\\\\\n",
       "\\hline\n",
       "\tAdora2b &   0 &    2 &   0 &   2 &   0 &   2 &   8 &    3 &    1 &    5 &    7 &  40\\\\\n",
       "\tAdora2a & 731 & 1036 & 749 & 913 & 761 & 334 & 825 & 1298 & 1321 & 1137 & 1096 & 617\\\\\n",
       "\tGm20741 &   0 &    0 &   0 &   0 &   0 &   0 &   0 &    0 &    0 &    0 &    0 &   0\\\\\n",
       "\tGm4340 &   0 &    0 &   0 &   0 &   0 &   0 &   0 &    0 &    0 &    0 &    0 &   0\\\\\n",
       "\tGm20744 &   0 &    0 &   0 &   0 &   0 &   0 &   0 &    0 &    0 &    0 &    0 &   0\\\\\n",
       "\tGm20743 &   0 &    0 &   0 &   0 &   0 &   0 &   0 &    0 &    0 &    0 &    0 &   0\\\\\n",
       "\\end{tabular}\n"
      ],
      "text/markdown": [
       "\n",
       "A data.frame: 6 × 12\n",
       "\n",
       "| <!--/--> | D1 &lt;int&gt; | D2 &lt;int&gt; | D3 &lt;int&gt; | D4 &lt;int&gt; | D5 &lt;int&gt; | D6 &lt;int&gt; | E1 &lt;int&gt; | E2 &lt;int&gt; | E3 &lt;int&gt; | E4 &lt;int&gt; | E5 &lt;int&gt; | E6 &lt;int&gt; |\n",
       "|---|---|---|---|---|---|---|---|---|---|---|---|---|\n",
       "| Adora2b |   0 |    2 |   0 |   2 |   0 |   2 |   8 |    3 |    1 |    5 |    7 |  40 |\n",
       "| Adora2a | 731 | 1036 | 749 | 913 | 761 | 334 | 825 | 1298 | 1321 | 1137 | 1096 | 617 |\n",
       "| Gm20741 |   0 |    0 |   0 |   0 |   0 |   0 |   0 |    0 |    0 |    0 |    0 |   0 |\n",
       "| Gm4340 |   0 |    0 |   0 |   0 |   0 |   0 |   0 |    0 |    0 |    0 |    0 |   0 |\n",
       "| Gm20744 |   0 |    0 |   0 |   0 |   0 |   0 |   0 |    0 |    0 |    0 |    0 |   0 |\n",
       "| Gm20743 |   0 |    0 |   0 |   0 |   0 |   0 |   0 |    0 |    0 |    0 |    0 |   0 |\n",
       "\n"
      ],
      "text/plain": [
       "        D1  D2   D3  D4  D5  D6  E1  E2   E3   E4   E5   E6 \n",
       "Adora2b   0    2   0   2   0   2   8    3    1    5    7  40\n",
       "Adora2a 731 1036 749 913 761 334 825 1298 1321 1137 1096 617\n",
       "Gm20741   0    0   0   0   0   0   0    0    0    0    0   0\n",
       "Gm4340    0    0   0   0   0   0   0    0    0    0    0   0\n",
       "Gm20744   0    0   0   0   0   0   0    0    0    0    0   0\n",
       "Gm20743   0    0   0   0   0   0   0    0    0    0    0   0"
      ]
     },
     "metadata": {},
     "output_type": "display_data"
    }
   ],
   "source": [
    "# import targets and counts\n",
    "targets <- read.csv(\"targets.csv\", header=TRUE, stringsAsFactors=FALSE)\n",
    "targets\n",
    "\n",
    "GenewiseCounts <- read.csv(\"htseq_counts_12.csv\", header=TRUE, row.names=1, stringsAsFactors=FALSE)\n",
    "head(GenewiseCounts)"
   ]
  },
  {
   "cell_type": "markdown",
   "metadata": {},
   "source": [
    "<b> We must define the sample group as factors and set the levels option so the group is not changed to alphabetical order. Also, define the batch column. </b>"
   ]
  },
  {
   "cell_type": "code",
   "execution_count": 5,
   "metadata": {},
   "outputs": [
    {
     "data": {
      "text/plain": [
       "\n",
       "CON EPZ \n",
       "  6   6 "
      ]
     },
     "metadata": {},
     "output_type": "display_data"
    },
    {
     "data": {
      "text/plain": [
       "\n",
       "b1 b2 \n",
       "10  2 "
      ]
     },
     "metadata": {},
     "output_type": "display_data"
    }
   ],
   "source": [
    "# define main factors for the analysis (group main factor for analysis, batch, etc)\n",
    "targets$group <- factor(targets$group, levels=c(unique(targets$group)))\n",
    "table(targets$group)\n",
    "#levels(targets$group)\n",
    "\n",
    "targets$batch <- factor(as.character(targets$batch), levels=c(unique(targets$batch)))\n",
    "table(targets$batch)\n",
    "#levels(targets$batch)\n",
    "\n",
    "# create data.frame with factors (potential factors for the analysis)\n",
    "my_targets <- data.frame(group=targets$group, batch=targets$batch)\n",
    "rownames(my_targets) <- targets$sample\n",
    "#head(my_targets)\n",
    "\n",
    "#table(my_targets$group)\n",
    "#table(my_targets$batch)"
   ]
  },
  {
   "cell_type": "markdown",
   "metadata": {},
   "source": [
    "<b> DGEList() = Creates a DGEList object from a table of counts (rows=features, columns=samples), group indicator for each column, library size (optional) and a table of feature annotation (optional).</b>"
   ]
  },
  {
   "cell_type": "code",
   "execution_count": 8,
   "metadata": {},
   "outputs": [
    {
     "data": {
      "text/html": [
       "<table class=\"dataframe\">\n",
       "<caption>A matrix: 6 × 5 of type int</caption>\n",
       "<thead>\n",
       "\t<tr><th></th><th scope=col>D1</th><th scope=col>D2</th><th scope=col>D3</th><th scope=col>D4</th><th scope=col>D5</th></tr>\n",
       "</thead>\n",
       "<tbody>\n",
       "\t<tr><th scope=row>Adora2b</th><td>  0</td><td>   2</td><td>  0</td><td>  2</td><td>  0</td></tr>\n",
       "\t<tr><th scope=row>Adora2a</th><td>731</td><td>1036</td><td>749</td><td>913</td><td>761</td></tr>\n",
       "\t<tr><th scope=row>Gm20741</th><td>  0</td><td>   0</td><td>  0</td><td>  0</td><td>  0</td></tr>\n",
       "\t<tr><th scope=row>Gm4340</th><td>  0</td><td>   0</td><td>  0</td><td>  0</td><td>  0</td></tr>\n",
       "\t<tr><th scope=row>Gm20744</th><td>  0</td><td>   0</td><td>  0</td><td>  0</td><td>  0</td></tr>\n",
       "\t<tr><th scope=row>Gm20743</th><td>  0</td><td>   0</td><td>  0</td><td>  0</td><td>  0</td></tr>\n",
       "</tbody>\n",
       "</table>\n"
      ],
      "text/latex": [
       "A matrix: 6 × 5 of type int\n",
       "\\begin{tabular}{r|lllll}\n",
       "  & D1 & D2 & D3 & D4 & D5\\\\\n",
       "\\hline\n",
       "\tAdora2b &   0 &    2 &   0 &   2 &   0\\\\\n",
       "\tAdora2a & 731 & 1036 & 749 & 913 & 761\\\\\n",
       "\tGm20741 &   0 &    0 &   0 &   0 &   0\\\\\n",
       "\tGm4340 &   0 &    0 &   0 &   0 &   0\\\\\n",
       "\tGm20744 &   0 &    0 &   0 &   0 &   0\\\\\n",
       "\tGm20743 &   0 &    0 &   0 &   0 &   0\\\\\n",
       "\\end{tabular}\n"
      ],
      "text/markdown": [
       "\n",
       "A matrix: 6 × 5 of type int\n",
       "\n",
       "| <!--/--> | D1 | D2 | D3 | D4 | D5 |\n",
       "|---|---|---|---|---|---|\n",
       "| Adora2b |   0 |    2 |   0 |   2 |   0 |\n",
       "| Adora2a | 731 | 1036 | 749 | 913 | 761 |\n",
       "| Gm20741 |   0 |    0 |   0 |   0 |   0 |\n",
       "| Gm4340 |   0 |    0 |   0 |   0 |   0 |\n",
       "| Gm20744 |   0 |    0 |   0 |   0 |   0 |\n",
       "| Gm20743 |   0 |    0 |   0 |   0 |   0 |\n",
       "\n"
      ],
      "text/plain": [
       "        D1  D2   D3  D4  D5 \n",
       "Adora2b   0    2   0   2   0\n",
       "Adora2a 731 1036 749 913 761\n",
       "Gm20741   0    0   0   0   0\n",
       "Gm4340    0    0   0   0   0\n",
       "Gm20744   0    0   0   0   0\n",
       "Gm20743   0    0   0   0   0"
      ]
     },
     "metadata": {},
     "output_type": "display_data"
    },
    {
     "data": {
      "text/html": [
       "<table class=\"dataframe\">\n",
       "<caption>A data.frame: 6 × 1</caption>\n",
       "<thead>\n",
       "\t<tr><th></th><th scope=col>gene_id</th></tr>\n",
       "\t<tr><th></th><th scope=col>&lt;chr&gt;</th></tr>\n",
       "</thead>\n",
       "<tbody>\n",
       "\t<tr><th scope=row>Adora2b</th><td>Adora2b</td></tr>\n",
       "\t<tr><th scope=row>Adora2a</th><td>Adora2a</td></tr>\n",
       "\t<tr><th scope=row>Gm20741</th><td>Gm20741</td></tr>\n",
       "\t<tr><th scope=row>Gm4340</th><td>Gm4340 </td></tr>\n",
       "\t<tr><th scope=row>Gm20744</th><td>Gm20744</td></tr>\n",
       "\t<tr><th scope=row>Gm20743</th><td>Gm20743</td></tr>\n",
       "</tbody>\n",
       "</table>\n"
      ],
      "text/latex": [
       "A data.frame: 6 × 1\n",
       "\\begin{tabular}{r|l}\n",
       "  & gene\\_id\\\\\n",
       "  & <chr>\\\\\n",
       "\\hline\n",
       "\tAdora2b & Adora2b\\\\\n",
       "\tAdora2a & Adora2a\\\\\n",
       "\tGm20741 & Gm20741\\\\\n",
       "\tGm4340 & Gm4340 \\\\\n",
       "\tGm20744 & Gm20744\\\\\n",
       "\tGm20743 & Gm20743\\\\\n",
       "\\end{tabular}\n"
      ],
      "text/markdown": [
       "\n",
       "A data.frame: 6 × 1\n",
       "\n",
       "| <!--/--> | gene_id &lt;chr&gt; |\n",
       "|---|---|\n",
       "| Adora2b | Adora2b |\n",
       "| Adora2a | Adora2a |\n",
       "| Gm20741 | Gm20741 |\n",
       "| Gm4340 | Gm4340  |\n",
       "| Gm20744 | Gm20744 |\n",
       "| Gm20743 | Gm20743 |\n",
       "\n"
      ],
      "text/plain": [
       "        gene_id\n",
       "Adora2b Adora2b\n",
       "Adora2a Adora2a\n",
       "Gm20741 Gm20741\n",
       "Gm4340  Gm4340 \n",
       "Gm20744 Gm20744\n",
       "Gm20743 Gm20743"
      ]
     },
     "metadata": {},
     "output_type": "display_data"
    },
    {
     "data": {
      "text/html": [
       "<table class=\"dataframe\">\n",
       "<caption>A data.frame: 6 × 3</caption>\n",
       "<thead>\n",
       "\t<tr><th></th><th scope=col>group</th><th scope=col>lib.size</th><th scope=col>norm.factors</th></tr>\n",
       "\t<tr><th></th><th scope=col>&lt;fct&gt;</th><th scope=col>&lt;dbl&gt;</th><th scope=col>&lt;dbl&gt;</th></tr>\n",
       "</thead>\n",
       "<tbody>\n",
       "\t<tr><th scope=row>D1</th><td>CON</td><td>22385619</td><td>1</td></tr>\n",
       "\t<tr><th scope=row>D2</th><td>CON</td><td>28092434</td><td>1</td></tr>\n",
       "\t<tr><th scope=row>D3</th><td>CON</td><td>19372856</td><td>1</td></tr>\n",
       "\t<tr><th scope=row>D4</th><td>CON</td><td>27283589</td><td>1</td></tr>\n",
       "\t<tr><th scope=row>D5</th><td>CON</td><td>23735343</td><td>1</td></tr>\n",
       "\t<tr><th scope=row>D6</th><td>CON</td><td>17215483</td><td>1</td></tr>\n",
       "</tbody>\n",
       "</table>\n"
      ],
      "text/latex": [
       "A data.frame: 6 × 3\n",
       "\\begin{tabular}{r|lll}\n",
       "  & group & lib.size & norm.factors\\\\\n",
       "  & <fct> & <dbl> & <dbl>\\\\\n",
       "\\hline\n",
       "\tD1 & CON & 22385619 & 1\\\\\n",
       "\tD2 & CON & 28092434 & 1\\\\\n",
       "\tD3 & CON & 19372856 & 1\\\\\n",
       "\tD4 & CON & 27283589 & 1\\\\\n",
       "\tD5 & CON & 23735343 & 1\\\\\n",
       "\tD6 & CON & 17215483 & 1\\\\\n",
       "\\end{tabular}\n"
      ],
      "text/markdown": [
       "\n",
       "A data.frame: 6 × 3\n",
       "\n",
       "| <!--/--> | group &lt;fct&gt; | lib.size &lt;dbl&gt; | norm.factors &lt;dbl&gt; |\n",
       "|---|---|---|---|\n",
       "| D1 | CON | 22385619 | 1 |\n",
       "| D2 | CON | 28092434 | 1 |\n",
       "| D3 | CON | 19372856 | 1 |\n",
       "| D4 | CON | 27283589 | 1 |\n",
       "| D5 | CON | 23735343 | 1 |\n",
       "| D6 | CON | 17215483 | 1 |\n",
       "\n"
      ],
      "text/plain": [
       "   group lib.size norm.factors\n",
       "D1 CON   22385619 1           \n",
       "D2 CON   28092434 1           \n",
       "D3 CON   19372856 1           \n",
       "D4 CON   27283589 1           \n",
       "D5 CON   23735343 1           \n",
       "D6 CON   17215483 1           "
      ]
     },
     "metadata": {},
     "output_type": "display_data"
    },
    {
     "name": "stdout",
     "output_type": "stream",
     "text": [
      "[1] \"used DGEList()\"\n"
     ]
    }
   ],
   "source": [
    "# create DGEList()\n",
    "y <- DGEList(counts=GenewiseCounts, group=  targets$group, genes=rownames(GenewiseCounts), remove.zeros=FALSE)\n",
    "colnames(y$genes)[1] <- \"gene_id\"\n",
    "head(y$counts)[,1:5]\n",
    "head(y$genes)\n",
    "head(y$samples)\n"
   ]
  },
  {
   "cell_type": "markdown",
   "metadata": {},
   "source": [
    "<b> Load the gene annotation from the Mus musculus database and add to the DGEList object </b>"
   ]
  },
  {
   "cell_type": "code",
   "execution_count": 9,
   "metadata": {
    "scrolled": true
   },
   "outputs": [
    {
     "name": "stderr",
     "output_type": "stream",
     "text": [
      "\n",
      "Attaching package: 'BiocGenerics'\n",
      "\n",
      "\n",
      "The following objects are masked from 'package:parallel':\n",
      "\n",
      "    clusterApply, clusterApplyLB, clusterCall, clusterEvalQ,\n",
      "    clusterExport, clusterMap, parApply, parCapply, parLapply,\n",
      "    parLapplyLB, parRapply, parSapply, parSapplyLB\n",
      "\n",
      "\n",
      "The following object is masked from 'package:limma':\n",
      "\n",
      "    plotMA\n",
      "\n",
      "\n",
      "The following objects are masked from 'package:stats':\n",
      "\n",
      "    IQR, mad, sd, var, xtabs\n",
      "\n",
      "\n",
      "The following objects are masked from 'package:base':\n",
      "\n",
      "    Filter, Find, Map, Position, Reduce, anyDuplicated, append,\n",
      "    as.data.frame, basename, cbind, colnames, dirname, do.call,\n",
      "    duplicated, eval, evalq, get, grep, grepl, intersect, is.unsorted,\n",
      "    lapply, mapply, match, mget, order, paste, pmax, pmax.int, pmin,\n",
      "    pmin.int, rank, rbind, rownames, sapply, setdiff, sort, table,\n",
      "    tapply, union, unique, unsplit, which.max, which.min\n",
      "\n",
      "\n",
      "Welcome to Bioconductor\n",
      "\n",
      "    Vignettes contain introductory material; view with\n",
      "    'browseVignettes()'. To cite Bioconductor, see\n",
      "    'citation(\"Biobase\")', and for packages 'citation(\"pkgname\")'.\n",
      "\n",
      "\n",
      "\n",
      "Attaching package: 'S4Vectors'\n",
      "\n",
      "\n",
      "The following objects are masked from 'package:base':\n",
      "\n",
      "    I, expand.grid, unname\n",
      "\n",
      "\n",
      "\n",
      "\n"
     ]
    }
   ],
   "source": [
    "library(AnnotationDbi, quietly=TRUE)\n",
    "library(org.Mm.eg.db, quietly=TRUE)"
   ]
  },
  {
   "cell_type": "code",
   "execution_count": 13,
   "metadata": {
    "scrolled": true
   },
   "outputs": [
    {
     "name": "stderr",
     "output_type": "stream",
     "text": [
      "'select()' returned 1:many mapping between keys and columns\n",
      "\n",
      "'select()' returned 1:1 mapping between keys and columns\n",
      "\n",
      "'select()' returned 1:1 mapping between keys and columns\n",
      "\n"
     ]
    },
    {
     "data": {
      "text/html": [
       "<table class=\"dataframe\">\n",
       "<caption>A data.frame: 6 × 3</caption>\n",
       "<thead>\n",
       "\t<tr><th></th><th scope=col>group</th><th scope=col>lib.size</th><th scope=col>norm.factors</th></tr>\n",
       "\t<tr><th></th><th scope=col>&lt;fct&gt;</th><th scope=col>&lt;dbl&gt;</th><th scope=col>&lt;dbl&gt;</th></tr>\n",
       "</thead>\n",
       "<tbody>\n",
       "\t<tr><th scope=row>D1</th><td>CON</td><td>22385619</td><td>1</td></tr>\n",
       "\t<tr><th scope=row>D2</th><td>CON</td><td>28092434</td><td>1</td></tr>\n",
       "\t<tr><th scope=row>D3</th><td>CON</td><td>19372856</td><td>1</td></tr>\n",
       "\t<tr><th scope=row>D4</th><td>CON</td><td>27283589</td><td>1</td></tr>\n",
       "\t<tr><th scope=row>D5</th><td>CON</td><td>23735343</td><td>1</td></tr>\n",
       "\t<tr><th scope=row>D6</th><td>CON</td><td>17215483</td><td>1</td></tr>\n",
       "</tbody>\n",
       "</table>\n"
      ],
      "text/latex": [
       "A data.frame: 6 × 3\n",
       "\\begin{tabular}{r|lll}\n",
       "  & group & lib.size & norm.factors\\\\\n",
       "  & <fct> & <dbl> & <dbl>\\\\\n",
       "\\hline\n",
       "\tD1 & CON & 22385619 & 1\\\\\n",
       "\tD2 & CON & 28092434 & 1\\\\\n",
       "\tD3 & CON & 19372856 & 1\\\\\n",
       "\tD4 & CON & 27283589 & 1\\\\\n",
       "\tD5 & CON & 23735343 & 1\\\\\n",
       "\tD6 & CON & 17215483 & 1\\\\\n",
       "\\end{tabular}\n"
      ],
      "text/markdown": [
       "\n",
       "A data.frame: 6 × 3\n",
       "\n",
       "| <!--/--> | group &lt;fct&gt; | lib.size &lt;dbl&gt; | norm.factors &lt;dbl&gt; |\n",
       "|---|---|---|---|\n",
       "| D1 | CON | 22385619 | 1 |\n",
       "| D2 | CON | 28092434 | 1 |\n",
       "| D3 | CON | 19372856 | 1 |\n",
       "| D4 | CON | 27283589 | 1 |\n",
       "| D5 | CON | 23735343 | 1 |\n",
       "| D6 | CON | 17215483 | 1 |\n",
       "\n"
      ],
      "text/plain": [
       "   group lib.size norm.factors\n",
       "D1 CON   22385619 1           \n",
       "D2 CON   28092434 1           \n",
       "D3 CON   19372856 1           \n",
       "D4 CON   27283589 1           \n",
       "D5 CON   23735343 1           \n",
       "D6 CON   17215483 1           "
      ]
     },
     "metadata": {},
     "output_type": "display_data"
    },
    {
     "data": {
      "text/html": [
       "<table class=\"dataframe\">\n",
       "<caption>A data.frame: 6 × 5</caption>\n",
       "<thead>\n",
       "\t<tr><th></th><th scope=col>gene_id</th><th scope=col>ENSEMBL</th><th scope=col>ENTREZID</th><th scope=col>SYMBOL</th><th scope=col>GENENAME</th></tr>\n",
       "\t<tr><th></th><th scope=col>&lt;chr&gt;</th><th scope=col>&lt;chr&gt;</th><th scope=col>&lt;chr&gt;</th><th scope=col>&lt;chr&gt;</th><th scope=col>&lt;chr&gt;</th></tr>\n",
       "</thead>\n",
       "<tbody>\n",
       "\t<tr><th scope=row>Adora2b</th><td>Adora2b</td><td>ENSMUSG00000018500</td><td>11541    </td><td>Adora2b</td><td>adenosine A2b receptor               </td></tr>\n",
       "\t<tr><th scope=row>Adora2a</th><td>Adora2a</td><td>ENSMUSG00000020178</td><td>11540    </td><td>Adora2a</td><td>adenosine A2a receptor               </td></tr>\n",
       "\t<tr><th scope=row>Gm20741</th><td>Gm20741</td><td>ENSMUSG00000116636</td><td>433047   </td><td>Gm20741</td><td>keratin associated protein pseudogene</td></tr>\n",
       "\t<tr><th scope=row>Gm4340</th><td>Gm4340 </td><td>ENSMUSG00000090854</td><td>100043292</td><td>Gm4340 </td><td>predicted gene 4340                  </td></tr>\n",
       "\t<tr><th scope=row>Gm20744</th><td>Gm20744</td><td>ENSMUSG00000109145</td><td>434205   </td><td>Gm20744</td><td>predicted gene, 20744                </td></tr>\n",
       "\t<tr><th scope=row>Gm20743</th><td>Gm20743</td><td>ENSMUSG00000104117</td><td>433374   </td><td>Gm20743</td><td>predicted gene, 20743                </td></tr>\n",
       "</tbody>\n",
       "</table>\n"
      ],
      "text/latex": [
       "A data.frame: 6 × 5\n",
       "\\begin{tabular}{r|lllll}\n",
       "  & gene\\_id & ENSEMBL & ENTREZID & SYMBOL & GENENAME\\\\\n",
       "  & <chr> & <chr> & <chr> & <chr> & <chr>\\\\\n",
       "\\hline\n",
       "\tAdora2b & Adora2b & ENSMUSG00000018500 & 11541     & Adora2b & adenosine A2b receptor               \\\\\n",
       "\tAdora2a & Adora2a & ENSMUSG00000020178 & 11540     & Adora2a & adenosine A2a receptor               \\\\\n",
       "\tGm20741 & Gm20741 & ENSMUSG00000116636 & 433047    & Gm20741 & keratin associated protein pseudogene\\\\\n",
       "\tGm4340 & Gm4340  & ENSMUSG00000090854 & 100043292 & Gm4340  & predicted gene 4340                  \\\\\n",
       "\tGm20744 & Gm20744 & ENSMUSG00000109145 & 434205    & Gm20744 & predicted gene, 20744                \\\\\n",
       "\tGm20743 & Gm20743 & ENSMUSG00000104117 & 433374    & Gm20743 & predicted gene, 20743                \\\\\n",
       "\\end{tabular}\n"
      ],
      "text/markdown": [
       "\n",
       "A data.frame: 6 × 5\n",
       "\n",
       "| <!--/--> | gene_id &lt;chr&gt; | ENSEMBL &lt;chr&gt; | ENTREZID &lt;chr&gt; | SYMBOL &lt;chr&gt; | GENENAME &lt;chr&gt; |\n",
       "|---|---|---|---|---|---|\n",
       "| Adora2b | Adora2b | ENSMUSG00000018500 | 11541     | Adora2b | adenosine A2b receptor                |\n",
       "| Adora2a | Adora2a | ENSMUSG00000020178 | 11540     | Adora2a | adenosine A2a receptor                |\n",
       "| Gm20741 | Gm20741 | ENSMUSG00000116636 | 433047    | Gm20741 | keratin associated protein pseudogene |\n",
       "| Gm4340 | Gm4340  | ENSMUSG00000090854 | 100043292 | Gm4340  | predicted gene 4340                   |\n",
       "| Gm20744 | Gm20744 | ENSMUSG00000109145 | 434205    | Gm20744 | predicted gene, 20744                 |\n",
       "| Gm20743 | Gm20743 | ENSMUSG00000104117 | 433374    | Gm20743 | predicted gene, 20743                 |\n",
       "\n"
      ],
      "text/plain": [
       "        gene_id ENSEMBL            ENTREZID  SYMBOL \n",
       "Adora2b Adora2b ENSMUSG00000018500 11541     Adora2b\n",
       "Adora2a Adora2a ENSMUSG00000020178 11540     Adora2a\n",
       "Gm20741 Gm20741 ENSMUSG00000116636 433047    Gm20741\n",
       "Gm4340  Gm4340  ENSMUSG00000090854 100043292 Gm4340 \n",
       "Gm20744 Gm20744 ENSMUSG00000109145 434205    Gm20744\n",
       "Gm20743 Gm20743 ENSMUSG00000104117 433374    Gm20743\n",
       "        GENENAME                             \n",
       "Adora2b adenosine A2b receptor               \n",
       "Adora2a adenosine A2a receptor               \n",
       "Gm20741 keratin associated protein pseudogene\n",
       "Gm4340  predicted gene 4340                  \n",
       "Gm20744 predicted gene, 20744                \n",
       "Gm20743 predicted gene, 20743                "
      ]
     },
     "metadata": {},
     "output_type": "display_data"
    }
   ],
   "source": [
    "#org.Mm.eg.db\n",
    "#keytypes(org.Mm.eg.db)\n",
    "\n",
    "\n",
    "y$genes$ENSEMBL  <- mapIds(org.Mm.eg.db, keys=rownames(y$genes), keytype = \"SYMBOL\", column=\"ENSEMBL\", multiVals=\"first\")\n",
    "y$genes$ENTREZID <- mapIds(org.Mm.eg.db, keys=rownames(y$genes), keytype = \"SYMBOL\", column=\"ENTREZID\", multiVals=\"first\")\n",
    "y$genes$SYMBOL   <- mapIds(org.Mm.eg.db, keys=rownames(y$genes), keytype = \"SYMBOL\", column=\"SYMBOL\", multiVals=\"first\")\n",
    "y$genes$GENENAME <- mapIds(org.Mm.eg.db, keys=rownames(y$genes), keytype = \"SYMBOL\", column=\"GENENAME\", multiVals=\"first\")\n",
    "\n",
    "\n",
    "# final imported data\n",
    "#head(y$counts)[,1:5]\n",
    "head(y$samples)\n",
    "head(y$genes)\n"
   ]
  },
  {
   "cell_type": "markdown",
   "metadata": {},
   "source": [
    "<b> Filter genes that contain zeros in all samples </b>"
   ]
  },
  {
   "cell_type": "code",
   "execution_count": 17,
   "metadata": {
    "scrolled": true
   },
   "outputs": [
    {
     "name": "stdout",
     "output_type": "stream",
     "text": [
      "[1] \"[2022-08-08 12:15:05] removing genes with 0 counts in all samples... \"\n"
     ]
    },
    {
     "data": {
      "text/plain": [
       "\n",
       "FALSE \n",
       "16593 "
      ]
     },
     "metadata": {},
     "output_type": "display_data"
    },
    {
     "data": {
      "text/plain": [
       "zeros\n",
       "FALSE \n",
       "16593 "
      ]
     },
     "metadata": {},
     "output_type": "display_data"
    },
    {
     "data": {
      "text/plain": [
       "keep\n",
       " TRUE \n",
       "16593 "
      ]
     },
     "metadata": {},
     "output_type": "display_data"
    },
    {
     "data": {
      "text/html": [
       "<style>\n",
       ".list-inline {list-style: none; margin:0; padding: 0}\n",
       ".list-inline>li {display: inline-block}\n",
       ".list-inline>li:not(:last-child)::after {content: \"\\00b7\"; padding: 0 .5ex}\n",
       "</style>\n",
       "<ol class=list-inline><li>16593</li><li>12</li></ol>\n"
      ],
      "text/latex": [
       "\\begin{enumerate*}\n",
       "\\item 16593\n",
       "\\item 12\n",
       "\\end{enumerate*}\n"
      ],
      "text/markdown": [
       "1. 16593\n",
       "2. 12\n",
       "\n",
       "\n"
      ],
      "text/plain": [
       "[1] 16593    12"
      ]
     },
     "metadata": {},
     "output_type": "display_data"
    }
   ],
   "source": [
    "## [2] REMOVE GENES WITH ZERO COUNTS\n",
    "\n",
    "# genes with zero counts in all samples\n",
    "zeros <- rowSums(y$counts)==0\n",
    "table(zeros)\n",
    "\n",
    "# keep genes with at least 1 count in 1 sample (i.e. filter genes with zero counts in all samples). \n",
    "keep <- rowSums(y$counts) > 0\n",
    "table(keep)\n",
    "y <- y[keep,, keep.lib.sizes=FALSE]\n",
    "dim(y)"
   ]
  },
  {
   "cell_type": "markdown",
   "metadata": {},
   "source": [
    "<b>Dealing with Sequencing Bias: </b>Check raw values such as number of groups, samples, genes to make sure the object size is correct. Check the library size for each sample, which indicates the depth of sequencing. Calculate counts per million.  \n",
    "\n",
    "<p>The differences between the number of readings is due to accidental variations in how much each different library is loaded into the flowcell and sequenced. </p>\n",
    "\n",
    "<p>When loading a multiplexed RNAseq experiment into the flowcell, one quantifies the DNA (the initial RNA is reverse transcribed to DNA) amount for each library, \"normalizes\" the libraries (i.e., dilutes all libraries to the same DNA concentration), and loads the same amount of each library into the flowcell. In an ideal world, all libraries would have the same number of reads, and then no library size normalization would be necessary for the analysis - this is rarely the case, though, and there is substantial reads number variation between libraries. https://www.biostars.org/p/349881/#350181</p>\n",
    "\n",
    "<p> There are multiple bias engaged in RNAseq experiment : <b>library size, genes length, RNA population composition for each condition and genes GC composition.</b>\n",
    "Two bias can be discarded if you compare genes amongst conditions only, because these two are inherent to the gene : <b>genes length and genes GC composition</b></p>\n",
    "    \n",
    "<p><b>genes length :</b> The raw count of two genes cannot compared if gene A is twice longer than gene B. Due to its length, the longest gene will have higher chance to be sequenced than the short one. And in the end, for the same expression level, the longest gene will identify more reads than the shortest one.</p>\n",
    "\n",
    "<p><b>genes GC composition :</b> For two genes with different GC content, the one with the closest GC content to 40% will more likely be sequenced. </p>\n",
    "<p>The others bias are \"technical bias\", due to your sample and sequencing method.\n",
    "<b>library size : </b> The most well know bias. You create two libraries for two conditions with the same RNA composition. The second library works way better than the first one, you get 12 000 000 reads for condition A and 36 000 000 reads for condition B. You will have three times (36 000 000/12 000 000 = 3) more of each RNA in your condition B than your condition A. </p>"
   ]
  },
  {
   "cell_type": "markdown",
   "metadata": {},
   "source": [
    "<img src=\"https://i.ibb.co/Ld4YH9m/condition-A.png\" alt=\"condition A\">"
   ]
  },
  {
   "cell_type": "markdown",
   "metadata": {},
   "source": [
    "<img src=\"https://i.ibb.co/sgF0PSj/condition-B.png\" alt=\"condition B\">\n",
    "  \n",
    "    \n",
    "<p>Apart from the differences in library depth, an additional problem is that RNASeq frequently have different amounts of different RNA types in them. A simple example could be that you have more rRNA in one sample than in another (lets say 1% vs 20%) if you do not take this into account it would look like the majority of protein coding genes were downregulated simply because they would get a smaller fraction of reads. Such effects is handled by doing a inter-library normalization an analysis build into all the major DE tool workflows. You can read more about this problem here. </p>"
   ]
  },
  {
   "cell_type": "markdown",
   "metadata": {},
   "source": [
    "To reduce these bias, there are a lot of methods to normalize RNAseq data.\n",
    "\n",
    "<p>Those which I call naive ones :\n",
    "\n",
    "<ul>\n",
    "    <li>Total count</li>\n",
    "    <li>Upper Quartile </li>\n",
    "    <li>RPKM (Reads Per Kilobase per Million, which is not solid enought for cross condition experiment, pub4 & pub5)</li>\n",
    "</ul>\n",
    "</p>\n",
    "\n",
    "Those with a statistical power :\n",
    "\n",
    "For the batch effect\n",
    "<ul>\n",
    "  <li>RLE method (Relative log Expression) like DESeq2 </li>\n",
    "  <li>TMM method (Trimmed Mean of M values) like edgeR </li>\n",
    "</ul>\n",
    "    Plus, the most used rule to normalize gene count :\n",
    "\n",
    "<ul> \n",
    "    <li>negative binomial distribution (edgeR, DESeq2)</li>\n",
    "<li>Add to that a multiple testing correction, to output strong express genes (DESeq2)</li>\n",
    "</ul>\n",
    "    Library size is the major biais and could be handle in DESeq2 using the <b> sizeFactor </b>"
   ]
  },
  {
   "cell_type": "code",
   "execution_count": 20,
   "metadata": {},
   "outputs": [
    {
     "data": {
      "text/html": [
       "2"
      ],
      "text/latex": [
       "2"
      ],
      "text/markdown": [
       "2"
      ],
      "text/plain": [
       "[1] 2"
      ]
     },
     "metadata": {},
     "output_type": "display_data"
    },
    {
     "data": {
      "text/html": [
       "12"
      ],
      "text/latex": [
       "12"
      ],
      "text/markdown": [
       "12"
      ],
      "text/plain": [
       "[1] 12"
      ]
     },
     "metadata": {},
     "output_type": "display_data"
    },
    {
     "data": {
      "text/html": [
       "16593"
      ],
      "text/latex": [
       "16593"
      ],
      "text/markdown": [
       "16593"
      ],
      "text/plain": [
       "[1] 16593"
      ]
     },
     "metadata": {},
     "output_type": "display_data"
    },
    {
     "data": {
      "text/html": [
       "<table class=\"dataframe\">\n",
       "<caption>A data.frame: 6 × 3</caption>\n",
       "<thead>\n",
       "\t<tr><th></th><th scope=col>group</th><th scope=col>lib.size</th><th scope=col>norm.factors</th></tr>\n",
       "\t<tr><th></th><th scope=col>&lt;fct&gt;</th><th scope=col>&lt;dbl&gt;</th><th scope=col>&lt;dbl&gt;</th></tr>\n",
       "</thead>\n",
       "<tbody>\n",
       "\t<tr><th scope=row>D1</th><td>CON</td><td>22385619</td><td>1</td></tr>\n",
       "\t<tr><th scope=row>D2</th><td>CON</td><td>28092434</td><td>1</td></tr>\n",
       "\t<tr><th scope=row>D3</th><td>CON</td><td>19372856</td><td>1</td></tr>\n",
       "\t<tr><th scope=row>D4</th><td>CON</td><td>27283589</td><td>1</td></tr>\n",
       "\t<tr><th scope=row>D5</th><td>CON</td><td>23735343</td><td>1</td></tr>\n",
       "\t<tr><th scope=row>D6</th><td>CON</td><td>17215483</td><td>1</td></tr>\n",
       "</tbody>\n",
       "</table>\n"
      ],
      "text/latex": [
       "A data.frame: 6 × 3\n",
       "\\begin{tabular}{r|lll}\n",
       "  & group & lib.size & norm.factors\\\\\n",
       "  & <fct> & <dbl> & <dbl>\\\\\n",
       "\\hline\n",
       "\tD1 & CON & 22385619 & 1\\\\\n",
       "\tD2 & CON & 28092434 & 1\\\\\n",
       "\tD3 & CON & 19372856 & 1\\\\\n",
       "\tD4 & CON & 27283589 & 1\\\\\n",
       "\tD5 & CON & 23735343 & 1\\\\\n",
       "\tD6 & CON & 17215483 & 1\\\\\n",
       "\\end{tabular}\n"
      ],
      "text/markdown": [
       "\n",
       "A data.frame: 6 × 3\n",
       "\n",
       "| <!--/--> | group &lt;fct&gt; | lib.size &lt;dbl&gt; | norm.factors &lt;dbl&gt; |\n",
       "|---|---|---|---|\n",
       "| D1 | CON | 22385619 | 1 |\n",
       "| D2 | CON | 28092434 | 1 |\n",
       "| D3 | CON | 19372856 | 1 |\n",
       "| D4 | CON | 27283589 | 1 |\n",
       "| D5 | CON | 23735343 | 1 |\n",
       "| D6 | CON | 17215483 | 1 |\n",
       "\n"
      ],
      "text/plain": [
       "   group lib.size norm.factors\n",
       "D1 CON   22385619 1           \n",
       "D2 CON   28092434 1           \n",
       "D3 CON   19372856 1           \n",
       "D4 CON   27283589 1           \n",
       "D5 CON   23735343 1           \n",
       "D6 CON   17215483 1           "
      ]
     },
     "metadata": {},
     "output_type": "display_data"
    },
    {
     "data": {
      "text/html": [
       "<table class=\"dataframe\">\n",
       "<caption>A data.frame: 6 × 5</caption>\n",
       "<thead>\n",
       "\t<tr><th></th><th scope=col>gene_id</th><th scope=col>ENSEMBL</th><th scope=col>ENTREZID</th><th scope=col>SYMBOL</th><th scope=col>GENENAME</th></tr>\n",
       "\t<tr><th></th><th scope=col>&lt;chr&gt;</th><th scope=col>&lt;chr&gt;</th><th scope=col>&lt;chr&gt;</th><th scope=col>&lt;chr&gt;</th><th scope=col>&lt;chr&gt;</th></tr>\n",
       "</thead>\n",
       "<tbody>\n",
       "\t<tr><th scope=row>Adora2b</th><td>Adora2b</td><td>ENSMUSG00000018500</td><td>11541    </td><td>Adora2b</td><td>adenosine A2b receptor                      </td></tr>\n",
       "\t<tr><th scope=row>Adora2a</th><td>Adora2a</td><td>ENSMUSG00000020178</td><td>11540    </td><td>Adora2a</td><td>adenosine A2a receptor                      </td></tr>\n",
       "\t<tr><th scope=row>Gm20745</th><td>Gm20745</td><td>ENSMUSG00000111841</td><td>434412   </td><td>Gm20745</td><td>predicted gene, 20745                       </td></tr>\n",
       "\t<tr><th scope=row>Rrp1</th><td>Rrp1   </td><td>ENSMUSG00000061032</td><td>18114    </td><td>Rrp1   </td><td>ribosomal RNA processing 1                  </td></tr>\n",
       "\t<tr><th scope=row>Fam50a</th><td>Fam50a </td><td>ENSMUSG00000001962</td><td>108160   </td><td>Fam50a </td><td>family with sequence similarity 50, member A</td></tr>\n",
       "\t<tr><th scope=row>Gm4349</th><td>Gm4349 </td><td>NA                </td><td>100043305</td><td>Gm4349 </td><td>SET domain, bifurcated 1 pseudogene         </td></tr>\n",
       "</tbody>\n",
       "</table>\n"
      ],
      "text/latex": [
       "A data.frame: 6 × 5\n",
       "\\begin{tabular}{r|lllll}\n",
       "  & gene\\_id & ENSEMBL & ENTREZID & SYMBOL & GENENAME\\\\\n",
       "  & <chr> & <chr> & <chr> & <chr> & <chr>\\\\\n",
       "\\hline\n",
       "\tAdora2b & Adora2b & ENSMUSG00000018500 & 11541     & Adora2b & adenosine A2b receptor                      \\\\\n",
       "\tAdora2a & Adora2a & ENSMUSG00000020178 & 11540     & Adora2a & adenosine A2a receptor                      \\\\\n",
       "\tGm20745 & Gm20745 & ENSMUSG00000111841 & 434412    & Gm20745 & predicted gene, 20745                       \\\\\n",
       "\tRrp1 & Rrp1    & ENSMUSG00000061032 & 18114     & Rrp1    & ribosomal RNA processing 1                  \\\\\n",
       "\tFam50a & Fam50a  & ENSMUSG00000001962 & 108160    & Fam50a  & family with sequence similarity 50, member A\\\\\n",
       "\tGm4349 & Gm4349  & NA                 & 100043305 & Gm4349  & SET domain, bifurcated 1 pseudogene         \\\\\n",
       "\\end{tabular}\n"
      ],
      "text/markdown": [
       "\n",
       "A data.frame: 6 × 5\n",
       "\n",
       "| <!--/--> | gene_id &lt;chr&gt; | ENSEMBL &lt;chr&gt; | ENTREZID &lt;chr&gt; | SYMBOL &lt;chr&gt; | GENENAME &lt;chr&gt; |\n",
       "|---|---|---|---|---|---|\n",
       "| Adora2b | Adora2b | ENSMUSG00000018500 | 11541     | Adora2b | adenosine A2b receptor                       |\n",
       "| Adora2a | Adora2a | ENSMUSG00000020178 | 11540     | Adora2a | adenosine A2a receptor                       |\n",
       "| Gm20745 | Gm20745 | ENSMUSG00000111841 | 434412    | Gm20745 | predicted gene, 20745                        |\n",
       "| Rrp1 | Rrp1    | ENSMUSG00000061032 | 18114     | Rrp1    | ribosomal RNA processing 1                   |\n",
       "| Fam50a | Fam50a  | ENSMUSG00000001962 | 108160    | Fam50a  | family with sequence similarity 50, member A |\n",
       "| Gm4349 | Gm4349  | NA                 | 100043305 | Gm4349  | SET domain, bifurcated 1 pseudogene          |\n",
       "\n"
      ],
      "text/plain": [
       "        gene_id ENSEMBL            ENTREZID  SYMBOL \n",
       "Adora2b Adora2b ENSMUSG00000018500 11541     Adora2b\n",
       "Adora2a Adora2a ENSMUSG00000020178 11540     Adora2a\n",
       "Gm20745 Gm20745 ENSMUSG00000111841 434412    Gm20745\n",
       "Rrp1    Rrp1    ENSMUSG00000061032 18114     Rrp1   \n",
       "Fam50a  Fam50a  ENSMUSG00000001962 108160    Fam50a \n",
       "Gm4349  Gm4349  NA                 100043305 Gm4349 \n",
       "        GENENAME                                    \n",
       "Adora2b adenosine A2b receptor                      \n",
       "Adora2a adenosine A2a receptor                      \n",
       "Gm20745 predicted gene, 20745                       \n",
       "Rrp1    ribosomal RNA processing 1                  \n",
       "Fam50a  family with sequence similarity 50, member A\n",
       "Gm4349  SET domain, bifurcated 1 pseudogene         "
      ]
     },
     "metadata": {},
     "output_type": "display_data"
    },
    {
     "data": {
      "text/html": [
       "-3.62283397774141"
      ],
      "text/latex": [
       "-3.62283397774141"
      ],
      "text/markdown": [
       "-3.62283397774141"
      ],
      "text/plain": [
       "[1] -3.622834"
      ]
     },
     "metadata": {},
     "output_type": "display_data"
    }
   ],
   "source": [
    "##--------------------\n",
    "##   RAW VARIABLES\n",
    "##--------------------\n",
    "y.raw          <- y\n",
    "ngroups        <- length(unique(y$samples$group)); ngroups\n",
    "nsamples       <- ncol(y); nsamples\n",
    "ngenes         <- nrow(y); ngenes\n",
    "\n",
    "raw_lib        <- y$samples; head(raw_lib)\n",
    "raw_counts     <- y$counts; #dim(raw_counts)\n",
    "raw_cpm        <- cpm(y, prior.count=2);# dim(raw_cpm)\n",
    "raw_lcpm       <- cpm(y, prior.count=2, log=TRUE);# dim(raw_lcpm)\n",
    "raw_anno       <- y$genes; head(raw_anno)\n",
    "raw_L          <- log2(2/(mean(y$samples$lib.size) * 1e-06)); #raw_L"
   ]
  },
  {
   "cell_type": "markdown",
   "metadata": {},
   "source": [
    "<b>Within-Sample Normalization = Counts per Million </b> Read count routinely refers to the number of reads that align to a particular region. Counts per million mapped reads are counts scaled by the number of sequenced fragments multiplied by one million. Transcripts per million (TPM) is a measurement of the proportion of transcripts in a pool of RNA"
   ]
  },
  {
   "cell_type": "code",
   "execution_count": 21,
   "metadata": {},
   "outputs": [],
   "source": [
    "pearson.raw_lcpm      <- cor(raw_lcpm, use=\"all.obs\", method=\"pearson\")\n",
    "spearman.raw_lcpm     <- cor(raw_lcpm, use=\"all.obs\", method=\"spearman\")\n",
    "\n",
    "raw_var     <- matrixStats::rowVars(raw_lcpm) # row variance per gene\n",
    "raw_scale   <- t(scale(t(raw_lcpm)))  # scaled lcpm values mean=0, std=1\n",
    "\n",
    "stopifnot(rownames(raw_scale)==rownames(y$genes))\n",
    "stopifnot(rownames(raw_scale)==rownames(y$counts))"
   ]
  },
  {
   "cell_type": "code",
   "execution_count": null,
   "metadata": {},
   "outputs": [],
   "source": [
    "## mean, median, min., and max. library sizes\n",
    "L  <- mean(y$samples$lib.size) * 1e-06\n",
    "M  <- median(y$samples$lib.size) * 1e-06\n",
    "Mn <- min(y$samples$lib.size) * 1e-06\n",
    "Mx <- max(y$samples$lib.size) * 1e-06\n",
    "round(c(L, M, Mn, Mx),1)\n",
    "\n",
    "# smallest libraries\n",
    "min_group <- min(table(targets$group))  # 6\n",
    "min_group\n",
    " \n",
    "# calculates the CPM value that corresponds to a count of 10\n",
    "cpm(10, min(y$samples$lib.size))\n",
    "min_cpm <- round(as.numeric(cpm(10, min(y$samples$lib.size))),2)\n",
    "min_cpm # 0.58\n",
    "\n",
    "keep <- rowSums(cpm(y) > min_cpm) >=  min_group\n",
    "table(keep)\n",
    "# FALSE  TRUE \n",
    "#  5136 11457\n",
    "\n",
    "\n",
    "y <- y[keep, , keep.lib.sizes=FALSE]\n",
    "dim(y) \n",
    "\n",
    "# The option keep.lib.sizes=FALSE causes the library sizes to be recomputed after the filtering.\n",
    "# This is generally recommended, although the effect on the downstream analysis is usually small."
   ]
  },
  {
   "cell_type": "code",
   "execution_count": null,
   "metadata": {},
   "outputs": [],
   "source": [
    "##---------------------------\n",
    "## FILTER VARIABLES (y)\n",
    "##---------------------------\n",
    "y.filter           <- y\n",
    "filter_lib         <- y$samples\n",
    "filter_ngenes      <- nrow(y); filter_ngenes\n",
    "filter_anno        <- y$genes;head(filter_anno)\n",
    "head(filter_anno)[1:5,];dim(filter_anno)\n",
    "filter_counts      <- y$counts\n",
    "filter_cpm         <- cpm(y, prior.count=2)\n",
    "filter_lcpm        <- cpm(y, prior.count=2, log=TRUE)\n",
    "filter_L           <- log2(2/(mean(y$samples$lib.size) * 1e-6));filter_L \n",
    "\n",
    "pearson.filter_lcpm      <- cor(filter_lcpm, use=\"all.obs\", method=\"pearson\")\n",
    "spearman.filter_lcpm     <- cor(filter_lcpm, use=\"all.obs\", method=\"spearman\")\n",
    "\n",
    "filter_var     <- matrixStats::rowVars(filter_lcpm) # row variance per gene\n",
    "filter_scale   <- t(scale(t(filter_lcpm)))  # scaled lcpm values mean=0, std=1\n",
    "\n",
    "print(\"Saved filtered variables\")\n",
    "\n",
    "stopifnot(rownames(filter_scale)==rownames(y$genes))\n",
    "stopifnot(rownames(filter_scale)==rownames(y$counts))"
   ]
  },
  {
   "cell_type": "markdown",
   "metadata": {},
   "source": [
    "<b>Between sample normalization - Trimmed mean of M values (TMM) </b>\n",
    "<p><b> CPM \"normalization\" </b> accounts for library size differences between samples, and produces normalized values that can be compared on an absolute scale (e.g., for filtering). <b>TMM normalization </b> accounts for composition bias, and computes normalization factors for comparing between libraries on a relative scale. CPM normalization doesn't account for composition bias, and TMM normalization doesn't produce normalized values. Thus, you need both steps in the analysis pipeline. https://support.bioconductor.org/p/69433/ </p>"
   ]
  },
  {
   "cell_type": "code",
   "execution_count": null,
   "metadata": {},
   "outputs": [],
   "source": [
    "##-------------------------------\n",
    "##     TMM NORMALIZATION (y)     \n",
    "##-------------------------------\n",
    "\n",
    "# NORMALIZED DATA (y)\n",
    "y <- calcNormFactors(y, method=\"TMM\")\n",
    "head(y$samples)\n",
    "\n",
    "##---------------------------\n",
    "##   NORM VARIABLES (y)\n",
    "##---------------------------\n",
    "y.norm          <- y\n",
    "norm_lib        <- y$samples\n",
    "norm_lib        <- cbind(y$samples, (y$samples$norm.factors * y$samples$lib.size))\n",
    "colnames(norm_lib) <- c(\"group\", \"old.lib.size\", \"norm.factors\", \"lib.size\"); head(norm_lib)\n",
    "\n",
    "norm_factor     <- y$samples$norm.factors\n",
    "norm_anno       <- y$genes\n",
    "norm_counts     <- y$counts\n",
    "norm_cpm        <- cpm(y, prior.count=2, normalized.lib.sizes = TRUE)\n",
    "norm_lcpm       <- cpm(y, prior.count=2, normalized.lib.sizes = TRUE, log=TRUE)\n",
    "norm_L          <- log2(2/(mean(y$samples$lib.size, normalized.lib.sizes=TRUE) * 1e-06)); norm_L \n",
    "\n",
    "pearson.norm_lcpm      <- cor(norm_lcpm, use=\"all.obs\", method=\"pearson\")\n",
    "spearman.norm_lcpm     <- cor(norm_lcpm, use=\"all.obs\", method=\"spearman\")\n",
    "\n",
    "norm_var     <- matrixStats::rowVars(norm_lcpm) # row variance per gene\n",
    "norm_scale   <- t(scale(t(norm_lcpm)))  # scaled lcpm values mean=0, std=1\n",
    "\n",
    "stopifnot(rownames(norm_scale)==rownames(y$genes))\n",
    "stopifnot(rownames(norm_scale)==rownames(y$counts))"
   ]
  },
  {
   "cell_type": "markdown",
   "metadata": {},
   "source": [
    "<b> Limma voom analysis</b>"
   ]
  },
  {
   "cell_type": "code",
   "execution_count": null,
   "metadata": {},
   "outputs": [],
   "source": [
    "design = model.matrix(~0 + my_targets$group + my_targets$batch,  data= y$samples)\n",
    "colnames(design) <- c(\"CON\",\"EPZ\", \"b2\");design"
   ]
  },
  {
   "cell_type": "code",
   "execution_count": null,
   "metadata": {},
   "outputs": [],
   "source": [
    "contrasts <- makeContrasts(EPZ_vs_CON=EPZ-CON, levels=colnames(design));contrasts"
   ]
  },
  {
   "cell_type": "code",
   "execution_count": null,
   "metadata": {},
   "outputs": [],
   "source": [
    "v <- voom(y, design, plot=FALSE)\n",
    "vfit<-lmFit(v, design)\n",
    "vfit<-contrasts.fit(vfit,contrasts=contrasts)\n",
    "results <-eBayes(vfit)"
   ]
  },
  {
   "cell_type": "code",
   "execution_count": null,
   "metadata": {},
   "outputs": [],
   "source": [
    "png(file.path(\".\", \"01_voom.png\"),units=\"in\", width=10, height=5, res=1000, pointsize=12)\n",
    "par(mfrow=c(1,2))\n",
    "   voom(y,design=design, normalize.method=\"none\", plot=TRUE, save.plot=TRUE)\n",
    "   plotSA(results, main=\"Final Model\")\n",
    "dev.off()"
   ]
  },
  {
   "cell_type": "code",
   "execution_count": null,
   "metadata": {},
   "outputs": [],
   "source": [
    "stats <- topTable(results, coef=1, n=Inf, adjust.method=\"BH\", sort.by=\"none\", p.value=1, lfc=0); dim(stats)\n",
    "results$stats <- stats\n",
    "sig <- topTable(results, coef=1, n=Inf, adjust.method=\"BH\", sort.by=\"none\", p.value=0.05, lfc=1); dim(sig)\n",
    "dt <- decideTests(results, method=\"separate\", adjust.method=\"BH\", p.value=0.05, lfc = 1)\n",
    "#summary(dt)\n",
    "#        EPZ_vs_CON\n",
    "# Down            7\n",
    "# NotSig      10738\n",
    "# Up            712"
   ]
  },
  {
   "cell_type": "code",
   "execution_count": null,
   "metadata": {},
   "outputs": [],
   "source": [
    "png(file.path(\".\", paste(\"05_\",\"EPZ_vs_CON\", \"_p-value.histogram.png\",sep=\"\")), units=\"in\", width=6, height=5, res=1000, pointsize=12)\n",
    "{\n",
    "   grayblue <-\"#b0ddf5\"\n",
    "      \n",
    "     hist(results$stats$P.Value, col= grayblue, breaks = 100, \n",
    "          main=paste(\"P-value Histogram: \",\"EPZ vs. CON\",sep=\"\"),\n",
    "          xlab=\"P.Value\", \n",
    "          ylab=\"frequency\", \n",
    "          font=1, cex.main=1, las=1)\n",
    "}\n",
    "dev.off()"
   ]
  },
  {
   "cell_type": "code",
   "execution_count": null,
   "metadata": {},
   "outputs": [],
   "source": [
    "     hist(results$stats$P.Value, col= grayblue, breaks = 100, \n",
    "          main=paste(\"P-value Histogram: \",\"EPZ vs. CON\",sep=\"\"),\n",
    "          xlab=\"P.Value\", \n",
    "          ylab=\"frequency\", \n",
    "          font=1, cex.main=1, las=1)\n"
   ]
  },
  {
   "cell_type": "code",
   "execution_count": null,
   "metadata": {},
   "outputs": [],
   "source": [
    "i<-1\n",
    "\n",
    "png(file.path(\".\", paste(\"07_\",\"EPZ_vs_CON\",\"_MD.plot.png\",sep=\"\")), units=\"in\", width=5, height=5, res=1000, pointsize=10)\n",
    "{\n",
    "     ##----------------------------------------------------------------------------\n",
    "     op <- par(no.readonly = TRUE)  # save current par settings b4 plotting\n",
    "     #par(mfrow = c(4, 5))          # multiple plots\n",
    "     par(mar = c(5, 5, 4, 1))       # inner margin (bottom, left, top, right)\n",
    "     par(mgp = c(3, 1, 0))          # axis margin (labels, ticks, line)\n",
    "     par(oma = c(2, 1, 0, 1))       # outer margin (bottom, left, top, right)\n",
    "     ##----------------------------------------------------------------------------\n",
    "     plotMD(results, column=i, cex=1, las=1, status=dt[,i], values=c(1,-1), col=c(\"red\",\"blue\"), \n",
    "            legend=\"topright\", main=\"\", \n",
    "            xlab=expression(paste(\"avg. \", log[2],\" (counts-per-million)\",sep=\"\")),\n",
    "            ylab=expression(paste(log[2],\" (fold-change)\",sep=\"\")),\n",
    "            cex.axis=1.1, cex.lab=1.2\n",
    "            # ,ylim=c(-11,13)\n",
    "            #,xlim=c(2,14)\n",
    "     )\n",
    "     title(main=paste(\"MD plot: \", \"EPZ vs. CON\", \"\", sep=\"\"))\n",
    "     legend(\"topright\", c(\"up\", \"not sig.\", \"down\"), inset=0, pch=19,\n",
    "            box.col=\"black\", box.lwd=1, bg=\"white\",\n",
    "            col=c(\"red\",\"black\",\"blue\"), ncol=1, cex=1)\n",
    "     \n",
    "     # text(x=12, y=-3, label=paste(\"up =\", summary(dt)[3], sep=\" \"), adj=0, col=\"red\", cex=0.9, font=1)\n",
    "     # text(x=12, y=-4, label=paste(\"not sig. =\", summary(dt)[2], sep=\" \"), adj=0, col=\"black\", cex=0.9, font=1)\n",
    "     # text(x=12, y=-5, label=paste(\"down =\", summary(dt)[1], sep=\" \"), adj=0, col=\"blue\", cex=0.9, font=1)\n",
    "     abline(h=c(-1,1), col=\"black\", lty=2,lwd=1)\n",
    "}\n",
    "\n",
    "\n",
    "dev.off()\n"
   ]
  },
  {
   "cell_type": "code",
   "execution_count": null,
   "metadata": {},
   "outputs": [],
   "source": [
    "i<-1\n",
    "\n",
    "     ##----------------------------------------------------------------------------\n",
    "     op <- par(no.readonly = TRUE)  # save current par settings b4 plotting\n",
    "     #par(mfrow = c(4, 5))          # multiple plots\n",
    "     par(mar = c(5, 5, 4, 1))       # inner margin (bottom, left, top, right)\n",
    "     par(mgp = c(3, 1, 0))          # axis margin (labels, ticks, line)\n",
    "     par(oma = c(2, 1, 0, 1))       # outer margin (bottom, left, top, right)\n",
    "     ##----------------------------------------------------------------------------\n",
    "     plotMD(results, column=i, cex=1, las=1, status=dt[,i], values=c(1,-1), col=c(\"red\",\"blue\"), \n",
    "            legend=\"topright\", main=\"\", \n",
    "            xlab=expression(paste(\"avg. \", log[2],\" (counts-per-million)\",sep=\"\")),\n",
    "            ylab=expression(paste(log[2],\" (fold-change)\",sep=\"\")),\n",
    "            cex.axis=1.1, cex.lab=1.2\n",
    "            # ,ylim=c(-11,13)\n",
    "            #,xlim=c(2,14)\n",
    "     )\n",
    "     title(main=paste(\"MD plot: \", \"EPZ vs. CON\", \"\", sep=\"\"))\n",
    "     legend(\"topright\", c(\"up\", \"not sig.\", \"down\"), inset=0, pch=19,\n",
    "            box.col=\"black\", box.lwd=1, bg=\"white\",\n",
    "            col=c(\"red\",\"black\",\"blue\"), ncol=1, cex=1)\n",
    "     \n",
    "     # text(x=12, y=-3, label=paste(\"up =\", summary(dt)[3], sep=\" \"), adj=0, col=\"red\", cex=0.9, font=1)\n",
    "     # text(x=12, y=-4, label=paste(\"not sig. =\", summary(dt)[2], sep=\" \"), adj=0, col=\"black\", cex=0.9, font=1)\n",
    "     # text(x=12, y=-5, label=paste(\"down =\", summary(dt)[1], sep=\" \"), adj=0, col=\"blue\", cex=0.9, font=1)\n",
    "     abline(h=c(-1,1), col=\"black\", lty=2,lwd=1)\n",
    "\n"
   ]
  },
  {
   "cell_type": "code",
   "execution_count": null,
   "metadata": {},
   "outputs": [],
   "source": [
    "library(Glimma, quietly=TRUE)\n",
    "  \n",
    "glMDPlot(results, \n",
    "         coef=i,\n",
    "         counts = norm_lcpm, \n",
    "         anno = results$genes,\n",
    "         groups = my_targets$group, \n",
    "         samples = colnames(norm_lcpm), \n",
    "         status = dt[,i],\n",
    "         transform=FALSE, \n",
    "         main = paste(\"MD Plot: \",\"EPZ vs. CON\", \"\", sep=\" \"),\n",
    "         xlab = \"avg. log2 (counts-per-million)\",\n",
    "         ylab = \"log2 (fold-change)\", \n",
    "         side.xlab = \"group\",\n",
    "         side.ylab = \"expression (norm_lcpm)\", \n",
    "         side.log = FALSE,\n",
    "         # side.gridstep = ifelse(!transform || side.log, FALSE, 0.5),\n",
    "         p.adj.method = \"BH\",\n",
    "         jitter = 30, \n",
    "         side.main = \"SYMBOL\",\n",
    "         display.columns = colnames(results$genes), \n",
    "         cols = c(\"#00bfff\", \"#858585\", \"#ff3030\"),\n",
    "         #sample.cols = colors[my_targets$group],\n",
    "         path = file.path(\".\"),\n",
    "         folder = \"MD-plots\", \n",
    "         html = paste(\"EPZ_vs_CON\", \"_MD.plot\", sep=\"\"), \n",
    "         launch = FALSE\n",
    "     )"
   ]
  },
  {
   "cell_type": "code",
   "execution_count": null,
   "metadata": {},
   "outputs": [],
   "source": [
    "png(file.path(\".\", paste(\"08_\",\"EPZ_vs_CON\",\"_volcano.plot.png\",sep=\"\")), units=\"in\", width=6, height=6, res=1000, pointsize=12)\n",
    "{\n",
    "     with(results$stats, \n",
    "          plot(logFC, -log10(adj.P.Val),# pch=20, las=1,\n",
    "               pch = 21, bg = \"black\", col = \"black\", lwd = 0.9, cex = 1,\n",
    "               main=paste(\"Volcano Plot: \", \"EPZ vs. CON\",\"\", sep=\" \"), \n",
    "               xlab=expression(paste(,log[2],\" (fold-change)\",sep=\"\")),\n",
    "               #xlab= \"logFC\", \n",
    "               ylab=expression(paste(\"-\",log[10],\" (adj. p-value)\",sep=\"\"))\n",
    "               # ylab=\"-log10 (P.Value)\", \n",
    "               # ,ylim= c(0, 8)\n",
    "               , xlim= c(-2,7)\n",
    "               , cex.axis=1.1, cex.lab=1.2\n",
    "          )\n",
    "     )\n",
    "     # grid()\n",
    "     \n",
    "     with(subset(results$stats, adj.P.Val <= 0.05 & logFC >= 1), points(logFC, -log10(adj.P.Val), pch = 21, bg = \"firebrick2\", col = \"firebrick2\", lwd = 1, cex = 1.1))\n",
    "     with(subset(results$stats, adj.P.Val <= 0.05 & logFC <= -1), points(logFC, -log10(adj.P.Val), pch = 21, bg = \"blue\", col = \"blue\", lwd = 1, cex = 1.1))\n",
    "\n",
    "     abline(v= c(-1,1), col=\"black\", lty=2, lwd=1)\n",
    "     abline(h= -log10(0.05), col=\"black\", lty=2, lwd=1)\n",
    "     \n",
    "     # text(x=-14, y=8, label=paste(\"up = \", summary(dt)[3], sep=\" \"), adj=0, col=\"red\", cex=0.8, font=1)\n",
    "     # text(x=-14, y=7.5, label=paste(\"not sig = \", summary(dt)[2], sep=\" \"), adj=0, col=\"black\", cex=0.8, font=1)\n",
    "     # text(x=-14, y=7, label=paste(\"down = \", summary(dt)[1], sep=\" \"), adj=0, col=\"blue\", cex=0.8, font=1)\n",
    "}\n",
    "\n",
    "dev.off()"
   ]
  },
  {
   "cell_type": "code",
   "execution_count": null,
   "metadata": {},
   "outputs": [],
   "source": [
    "glXYPlot(x=results$stats$logFC,\n",
    "         y=-log(results$stats$adj.P.Val, 10),\n",
    "         counts = norm_lcpm,\n",
    "         groups = my_targets$group,\n",
    "         samples = rownames(my_targets),\n",
    "         status = dt[,i], \n",
    "         transform=FALSE, \n",
    "         anno = results$genes,\n",
    "         display.columns = colnames(results$genes),\n",
    "         xlab = \"log2 (fold-change)\",\n",
    "         ylab = \"-log10 (adj. p-value)\",\n",
    "         side.main = \"SYMBOL\",\n",
    "         side.xlab = \"group\",\n",
    "         side.ylab = \"expression (norm_lcpm)\",\n",
    "         side.log=FALSE,\n",
    "         #sample.cols = colors[my_targets$group],\n",
    "         cols = c(\"#00bfff\", \"#858585\", \"#ff3030\"),\n",
    "         p.adj.method=\"BH\",\n",
    "         jitter = 30,\n",
    "         path = file.path(\".\"),\n",
    "         folder = \"Volcano-plots\",\n",
    "         html = paste(\"EPZ_vs_CON\",\"_volcano.plot\", sep=\"\"),\n",
    "         main=paste(\"Volcano Plot: \",\"EPZ vs. CON\", \"\", sep=\" \"),\n",
    "         launch = FALSE\n",
    "         )"
   ]
  },
  {
   "cell_type": "code",
   "execution_count": null,
   "metadata": {},
   "outputs": [],
   "source": []
  }
 ],
 "metadata": {
  "kernelspec": {
   "display_name": "R [conda env:appl_sys_bio]",
   "language": "R",
   "name": "conda-env-appl_sys_bio-r"
  },
  "language_info": {
   "codemirror_mode": "r",
   "file_extension": ".r",
   "mimetype": "text/x-r-source",
   "name": "R",
   "pygments_lexer": "r",
   "version": "4.1.3"
  }
 },
 "nbformat": 4,
 "nbformat_minor": 4
}
